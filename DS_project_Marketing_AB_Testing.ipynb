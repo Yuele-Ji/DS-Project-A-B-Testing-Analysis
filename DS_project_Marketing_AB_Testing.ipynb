{
  "nbformat": 4,
  "nbformat_minor": 0,
  "metadata": {
    "colab": {
      "name": "DS project 1: Marketing Experiment.ipynb",
      "provenance": []
    },
    "kernelspec": {
      "name": "python3",
      "display_name": "Python 3"
    }
  },
  "cells": [
    {
      "cell_type": "markdown",
      "metadata": {
        "id": "WBEcX3N19IGh"
      },
      "source": [
        "# Data Science Project 1: Marketing Experimentation\n",
        "\n",
        "### 1. Background\n",
        "An e-commerce company tested two versions of the shopping cart UI on their mobile app in order to increase the conversion rate.\n",
        "\n",
        "The project is to analyze the A/B test results and decide whether to change the UI.\n",
        "\n",
        "### 2. Data\n",
        "The data we have is from 450k users devided in to control and test groups while the AB-test was running.\n",
        "\n",
        "experimenet.csv\n",
        "\n",
        "usrer.csv\n",
        "\n",
        "###3. Skills\n",
        "Eperimence design\n",
        "\n",
        "Hypothesis test\n",
        "\n",
        "Data analysis\n",
        "\n",
        "Machine learning\n",
        "\n"
      ]
    },
    {
      "cell_type": "code",
      "metadata": {
        "colab": {
          "base_uri": "https://localhost:8080/"
        },
        "id": "pjdIwQjX4bBF",
        "outputId": "e2e8a73d-df5c-4f75-967a-1fbab436d24c"
      },
      "source": [
        "from google.colab import drive\n",
        "drive.mount('/content/drive')"
      ],
      "execution_count": 1,
      "outputs": [
        {
          "output_type": "stream",
          "text": [
            "Mounted at /content/drive\n"
          ],
          "name": "stdout"
        }
      ]
    },
    {
      "cell_type": "code",
      "metadata": {
        "id": "VjU50xnk5LLj"
      },
      "source": [
        "# import modules\n",
        "import pandas as pd\n",
        "from scipy import stats\n",
        "import matplotlib.pyplot as plt\n",
        "%matplotlib inline\n",
        "import sklearn.tree as tree\n",
        "from sklearn.tree import DecisionTreeClassifier, export_graphviz\n",
        "import graphviz"
      ],
      "execution_count": 2,
      "outputs": []
    },
    {
      "cell_type": "markdown",
      "metadata": {
        "id": "kDif9zND-bOh"
      },
      "source": [
        "# 1.Data Wrangling\n",
        "\n",
        "### Read and manipulate data with pandas\n",
        "\n",
        "- sanity check\n",
        "\n",
        "- duplicates check\n",
        "\n",
        "- merge\n",
        "\n",
        "- datetime conversion\n"
      ]
    },
    {
      "cell_type": "code",
      "metadata": {
        "id": "52rF2JHD5SGr"
      },
      "source": [
        "# read data from csv files\n",
        "experiment = pd.read_csv('/content/drive/MyDrive/experiment.csv') # experiment data\n",
        "users = pd.read_csv('/content/drive/MyDrive/users.csv') # customer data"
      ],
      "execution_count": 3,
      "outputs": []
    },
    {
      "cell_type": "code",
      "metadata": {
        "id": "D5wHLplF5gfK",
        "colab": {
          "base_uri": "https://localhost:8080/",
          "height": 204
        },
        "outputId": "df962870-f648-4722-9899-08206f40d3bc"
      },
      "source": [
        "# let's check what the data look like\n",
        "experiment.head(5)\n",
        "\n",
        "# conversion: purchase or not(0/1)\n",
        "# condition 0: control group; condition 1: test group"
      ],
      "execution_count": 4,
      "outputs": [
        {
          "output_type": "execute_result",
          "data": {
            "text/html": [
              "<div>\n",
              "<style scoped>\n",
              "    .dataframe tbody tr th:only-of-type {\n",
              "        vertical-align: middle;\n",
              "    }\n",
              "\n",
              "    .dataframe tbody tr th {\n",
              "        vertical-align: top;\n",
              "    }\n",
              "\n",
              "    .dataframe thead th {\n",
              "        text-align: right;\n",
              "    }\n",
              "</style>\n",
              "<table border=\"1\" class=\"dataframe\">\n",
              "  <thead>\n",
              "    <tr style=\"text-align: right;\">\n",
              "      <th></th>\n",
              "      <th>user_id</th>\n",
              "      <th>date</th>\n",
              "      <th>interface</th>\n",
              "      <th>language</th>\n",
              "      <th>channel</th>\n",
              "      <th>ads</th>\n",
              "      <th>device</th>\n",
              "      <th>conversion</th>\n",
              "      <th>condition</th>\n",
              "    </tr>\n",
              "  </thead>\n",
              "  <tbody>\n",
              "    <tr>\n",
              "      <th>0</th>\n",
              "      <td>435134</td>\n",
              "      <td>11/30/19</td>\n",
              "      <td>app</td>\n",
              "      <td>English</td>\n",
              "      <td>SEO</td>\n",
              "      <td>NaN</td>\n",
              "      <td>iPhone</td>\n",
              "      <td>0</td>\n",
              "      <td>0</td>\n",
              "    </tr>\n",
              "    <tr>\n",
              "      <th>1</th>\n",
              "      <td>310928</td>\n",
              "      <td>12/4/19</td>\n",
              "      <td>browser</td>\n",
              "      <td>English</td>\n",
              "      <td>Ads</td>\n",
              "      <td>Baidu</td>\n",
              "      <td>Sumsung</td>\n",
              "      <td>0</td>\n",
              "      <td>0</td>\n",
              "    </tr>\n",
              "    <tr>\n",
              "      <th>2</th>\n",
              "      <td>836325</td>\n",
              "      <td>11/30/19</td>\n",
              "      <td>app</td>\n",
              "      <td>English</td>\n",
              "      <td>Ads</td>\n",
              "      <td>Google</td>\n",
              "      <td>iPhone</td>\n",
              "      <td>0</td>\n",
              "      <td>0</td>\n",
              "    </tr>\n",
              "    <tr>\n",
              "      <th>3</th>\n",
              "      <td>298244</td>\n",
              "      <td>12/4/19</td>\n",
              "      <td>browser</td>\n",
              "      <td>English</td>\n",
              "      <td>Referral</td>\n",
              "      <td>NaN</td>\n",
              "      <td>Sumsung</td>\n",
              "      <td>0</td>\n",
              "      <td>0</td>\n",
              "    </tr>\n",
              "    <tr>\n",
              "      <th>4</th>\n",
              "      <td>614947</td>\n",
              "      <td>12/4/19</td>\n",
              "      <td>app</td>\n",
              "      <td>English</td>\n",
              "      <td>Ads</td>\n",
              "      <td>Baidu</td>\n",
              "      <td>iPhone</td>\n",
              "      <td>0</td>\n",
              "      <td>1</td>\n",
              "    </tr>\n",
              "  </tbody>\n",
              "</table>\n",
              "</div>"
            ],
            "text/plain": [
              "   user_id      date interface language  ...     ads   device conversion  condition\n",
              "0   435134  11/30/19       app  English  ...     NaN   iPhone          0          0\n",
              "1   310928   12/4/19   browser  English  ...   Baidu  Sumsung          0          0\n",
              "2   836325  11/30/19       app  English  ...  Google   iPhone          0          0\n",
              "3   298244   12/4/19   browser  English  ...     NaN  Sumsung          0          0\n",
              "4   614947   12/4/19       app  English  ...   Baidu   iPhone          0          1\n",
              "\n",
              "[5 rows x 9 columns]"
            ]
          },
          "metadata": {
            "tags": []
          },
          "execution_count": 4
        }
      ]
    },
    {
      "cell_type": "code",
      "metadata": {
        "id": "i6L5z41Z6Rj2",
        "colab": {
          "base_uri": "https://localhost:8080/",
          "height": 204
        },
        "outputId": "00986f4a-1bd8-4af3-b0cb-5b65396d0f8d"
      },
      "source": [
        "users.tail(5)"
      ],
      "execution_count": 5,
      "outputs": [
        {
          "output_type": "execute_result",
          "data": {
            "text/html": [
              "<div>\n",
              "<style scoped>\n",
              "    .dataframe tbody tr th:only-of-type {\n",
              "        vertical-align: middle;\n",
              "    }\n",
              "\n",
              "    .dataframe tbody tr th {\n",
              "        vertical-align: top;\n",
              "    }\n",
              "\n",
              "    .dataframe thead th {\n",
              "        text-align: right;\n",
              "    }\n",
              "</style>\n",
              "<table border=\"1\" class=\"dataframe\">\n",
              "  <thead>\n",
              "    <tr style=\"text-align: right;\">\n",
              "      <th></th>\n",
              "      <th>user_id</th>\n",
              "      <th>sex</th>\n",
              "      <th>age</th>\n",
              "      <th>state</th>\n",
              "    </tr>\n",
              "  </thead>\n",
              "  <tbody>\n",
              "    <tr>\n",
              "      <th>452780</th>\n",
              "      <td>106844</td>\n",
              "      <td>Female</td>\n",
              "      <td>21</td>\n",
              "      <td>New York</td>\n",
              "    </tr>\n",
              "    <tr>\n",
              "      <th>452781</th>\n",
              "      <td>907214</td>\n",
              "      <td>Male</td>\n",
              "      <td>22</td>\n",
              "      <td>Florida</td>\n",
              "    </tr>\n",
              "    <tr>\n",
              "      <th>452782</th>\n",
              "      <td>234616</td>\n",
              "      <td>Female</td>\n",
              "      <td>20</td>\n",
              "      <td>Airzona</td>\n",
              "    </tr>\n",
              "    <tr>\n",
              "      <th>452783</th>\n",
              "      <td>168038</td>\n",
              "      <td>Female</td>\n",
              "      <td>22</td>\n",
              "      <td>Florida</td>\n",
              "    </tr>\n",
              "    <tr>\n",
              "      <th>452784</th>\n",
              "      <td>954132</td>\n",
              "      <td>Male</td>\n",
              "      <td>18</td>\n",
              "      <td>California</td>\n",
              "    </tr>\n",
              "  </tbody>\n",
              "</table>\n",
              "</div>"
            ],
            "text/plain": [
              "        user_id     sex  age       state\n",
              "452780   106844  Female   21    New York\n",
              "452781   907214    Male   22     Florida\n",
              "452782   234616  Female   20     Airzona\n",
              "452783   168038  Female   22     Florida\n",
              "452784   954132    Male   18  California"
            ]
          },
          "metadata": {
            "tags": []
          },
          "execution_count": 5
        }
      ]
    },
    {
      "cell_type": "code",
      "metadata": {
        "id": "W23U7I4k6m9Q",
        "colab": {
          "base_uri": "https://localhost:8080/"
        },
        "outputId": "5dafeea3-d740-4e9a-dd40-a054bdb6ead6"
      },
      "source": [
        "print(experiment.shape)\n",
        "print(users.shape)\n",
        "\n",
        "# check duplicate records\n",
        "print(experiment['user_id'].nunique()) # match with the table\n",
        "print(users['user_id'].nunique()) # all records are unique"
      ],
      "execution_count": 6,
      "outputs": [
        {
          "output_type": "stream",
          "text": [
            "(453269, 9)\n",
            "(452785, 4)\n",
            "453269\n",
            "452785\n"
          ],
          "name": "stdout"
        }
      ]
    },
    {
      "cell_type": "code",
      "metadata": {
        "id": "6O6dmSLv7o6K",
        "colab": {
          "base_uri": "https://localhost:8080/",
          "height": 204
        },
        "outputId": "25127403-b0d0-4f92-9bc7-3b4dd38655c0"
      },
      "source": [
        "# inner join\n",
        "# we will ingore the 500 missing value in users since our data is large enough to conduct analysis\n",
        "df = experiment.merge(users, on=['user_id'])\n",
        "df.head()"
      ],
      "execution_count": 7,
      "outputs": [
        {
          "output_type": "execute_result",
          "data": {
            "text/html": [
              "<div>\n",
              "<style scoped>\n",
              "    .dataframe tbody tr th:only-of-type {\n",
              "        vertical-align: middle;\n",
              "    }\n",
              "\n",
              "    .dataframe tbody tr th {\n",
              "        vertical-align: top;\n",
              "    }\n",
              "\n",
              "    .dataframe thead th {\n",
              "        text-align: right;\n",
              "    }\n",
              "</style>\n",
              "<table border=\"1\" class=\"dataframe\">\n",
              "  <thead>\n",
              "    <tr style=\"text-align: right;\">\n",
              "      <th></th>\n",
              "      <th>user_id</th>\n",
              "      <th>date</th>\n",
              "      <th>interface</th>\n",
              "      <th>language</th>\n",
              "      <th>channel</th>\n",
              "      <th>ads</th>\n",
              "      <th>device</th>\n",
              "      <th>conversion</th>\n",
              "      <th>condition</th>\n",
              "      <th>sex</th>\n",
              "      <th>age</th>\n",
              "      <th>state</th>\n",
              "    </tr>\n",
              "  </thead>\n",
              "  <tbody>\n",
              "    <tr>\n",
              "      <th>0</th>\n",
              "      <td>435134</td>\n",
              "      <td>11/30/19</td>\n",
              "      <td>app</td>\n",
              "      <td>English</td>\n",
              "      <td>SEO</td>\n",
              "      <td>NaN</td>\n",
              "      <td>iPhone</td>\n",
              "      <td>0</td>\n",
              "      <td>0</td>\n",
              "      <td>Female</td>\n",
              "      <td>18</td>\n",
              "      <td>Texas</td>\n",
              "    </tr>\n",
              "    <tr>\n",
              "      <th>1</th>\n",
              "      <td>310928</td>\n",
              "      <td>12/4/19</td>\n",
              "      <td>browser</td>\n",
              "      <td>English</td>\n",
              "      <td>Ads</td>\n",
              "      <td>Baidu</td>\n",
              "      <td>Sumsung</td>\n",
              "      <td>0</td>\n",
              "      <td>0</td>\n",
              "      <td>Male</td>\n",
              "      <td>28</td>\n",
              "      <td>Massachusetts</td>\n",
              "    </tr>\n",
              "    <tr>\n",
              "      <th>2</th>\n",
              "      <td>836325</td>\n",
              "      <td>11/30/19</td>\n",
              "      <td>app</td>\n",
              "      <td>English</td>\n",
              "      <td>Ads</td>\n",
              "      <td>Google</td>\n",
              "      <td>iPhone</td>\n",
              "      <td>0</td>\n",
              "      <td>0</td>\n",
              "      <td>Female</td>\n",
              "      <td>24</td>\n",
              "      <td>California</td>\n",
              "    </tr>\n",
              "    <tr>\n",
              "      <th>3</th>\n",
              "      <td>298244</td>\n",
              "      <td>12/4/19</td>\n",
              "      <td>browser</td>\n",
              "      <td>English</td>\n",
              "      <td>Referral</td>\n",
              "      <td>NaN</td>\n",
              "      <td>Sumsung</td>\n",
              "      <td>0</td>\n",
              "      <td>0</td>\n",
              "      <td>Male</td>\n",
              "      <td>34</td>\n",
              "      <td>Michigan</td>\n",
              "    </tr>\n",
              "    <tr>\n",
              "      <th>4</th>\n",
              "      <td>614947</td>\n",
              "      <td>12/4/19</td>\n",
              "      <td>app</td>\n",
              "      <td>English</td>\n",
              "      <td>Ads</td>\n",
              "      <td>Baidu</td>\n",
              "      <td>iPhone</td>\n",
              "      <td>0</td>\n",
              "      <td>1</td>\n",
              "      <td>Female</td>\n",
              "      <td>18</td>\n",
              "      <td>California</td>\n",
              "    </tr>\n",
              "  </tbody>\n",
              "</table>\n",
              "</div>"
            ],
            "text/plain": [
              "   user_id      date interface language  ... condition     sex age          state\n",
              "0   435134  11/30/19       app  English  ...         0  Female  18          Texas\n",
              "1   310928   12/4/19   browser  English  ...         0    Male  28  Massachusetts\n",
              "2   836325  11/30/19       app  English  ...         0  Female  24     California\n",
              "3   298244   12/4/19   browser  English  ...         0    Male  34       Michigan\n",
              "4   614947   12/4/19       app  English  ...         1  Female  18     California\n",
              "\n",
              "[5 rows x 12 columns]"
            ]
          },
          "metadata": {
            "tags": []
          },
          "execution_count": 7
        }
      ]
    },
    {
      "cell_type": "code",
      "metadata": {
        "colab": {
          "base_uri": "https://localhost:8080/"
        },
        "id": "tO31nN5WpvS8",
        "outputId": "7d272a24-7eca-4b65-d04d-fad6a1d3a3b5"
      },
      "source": [
        "# counting the number of users in each AB group\n",
        "df.groupby('condition').user_id.count()\n",
        "# it looks like there is roughly the same number of players in each group"
      ],
      "execution_count": 8,
      "outputs": [
        {
          "output_type": "execute_result",
          "data": {
            "text/plain": [
              "condition\n",
              "0    237013\n",
              "1    215720\n",
              "Name: user_id, dtype: int64"
            ]
          },
          "metadata": {
            "tags": []
          },
          "execution_count": 8
        }
      ]
    },
    {
      "cell_type": "code",
      "metadata": {
        "id": "MuXezGxV7_dr",
        "colab": {
          "base_uri": "https://localhost:8080/"
        },
        "outputId": "fed8f4b9-53de-49c5-956d-b3adeae99e7b"
      },
      "source": [
        "df.info()\n",
        "# there is some null value in ads since not all users are come from ads channel"
      ],
      "execution_count": 9,
      "outputs": [
        {
          "output_type": "stream",
          "text": [
            "<class 'pandas.core.frame.DataFrame'>\n",
            "Int64Index: 452733 entries, 0 to 452732\n",
            "Data columns (total 12 columns):\n",
            " #   Column      Non-Null Count   Dtype \n",
            "---  ------      --------------   ----- \n",
            " 0   user_id     452733 non-null  int64 \n",
            " 1   date        452733 non-null  object\n",
            " 2   interface   452733 non-null  object\n",
            " 3   language    452733 non-null  object\n",
            " 4   channel     452733 non-null  object\n",
            " 5   ads         181640 non-null  object\n",
            " 6   device      452733 non-null  object\n",
            " 7   conversion  452733 non-null  int64 \n",
            " 8   condition   452733 non-null  int64 \n",
            " 9   sex         452733 non-null  object\n",
            " 10  age         452733 non-null  int64 \n",
            " 11  state       452733 non-null  object\n",
            "dtypes: int64(4), object(8)\n",
            "memory usage: 44.9+ MB\n"
          ],
          "name": "stdout"
        }
      ]
    },
    {
      "cell_type": "code",
      "metadata": {
        "id": "zNwkymE38Cqv"
      },
      "source": [
        "# convert date to datetime\n",
        "df['date'] = pd.to_datetime(df['date'])"
      ],
      "execution_count": 10,
      "outputs": []
    },
    {
      "cell_type": "code",
      "metadata": {
        "id": "67wJnBO578LL",
        "colab": {
          "base_uri": "https://localhost:8080/",
          "height": 506
        },
        "outputId": "db73e94e-256f-4fd9-a637-eae945ebebe6"
      },
      "source": [
        "df.describe(include='all') # include non-numerical value"
      ],
      "execution_count": 11,
      "outputs": [
        {
          "output_type": "stream",
          "text": [
            "/usr/local/lib/python3.7/dist-packages/ipykernel_launcher.py:1: FutureWarning: Treating datetime data as categorical rather than numeric in `.describe` is deprecated and will be removed in a future version of pandas. Specify `datetime_is_numeric=True` to silence this warning and adopt the future behavior now.\n",
            "  \"\"\"Entry point for launching an IPython kernel.\n"
          ],
          "name": "stderr"
        },
        {
          "output_type": "execute_result",
          "data": {
            "text/html": [
              "<div>\n",
              "<style scoped>\n",
              "    .dataframe tbody tr th:only-of-type {\n",
              "        vertical-align: middle;\n",
              "    }\n",
              "\n",
              "    .dataframe tbody tr th {\n",
              "        vertical-align: top;\n",
              "    }\n",
              "\n",
              "    .dataframe thead th {\n",
              "        text-align: right;\n",
              "    }\n",
              "</style>\n",
              "<table border=\"1\" class=\"dataframe\">\n",
              "  <thead>\n",
              "    <tr style=\"text-align: right;\">\n",
              "      <th></th>\n",
              "      <th>user_id</th>\n",
              "      <th>date</th>\n",
              "      <th>interface</th>\n",
              "      <th>language</th>\n",
              "      <th>channel</th>\n",
              "      <th>ads</th>\n",
              "      <th>device</th>\n",
              "      <th>conversion</th>\n",
              "      <th>condition</th>\n",
              "      <th>sex</th>\n",
              "      <th>age</th>\n",
              "      <th>state</th>\n",
              "    </tr>\n",
              "  </thead>\n",
              "  <tbody>\n",
              "    <tr>\n",
              "      <th>count</th>\n",
              "      <td>452733.000000</td>\n",
              "      <td>452733</td>\n",
              "      <td>452733</td>\n",
              "      <td>452733</td>\n",
              "      <td>452733</td>\n",
              "      <td>181640</td>\n",
              "      <td>452733</td>\n",
              "      <td>452733.000000</td>\n",
              "      <td>452733.000000</td>\n",
              "      <td>452733</td>\n",
              "      <td>452733.000000</td>\n",
              "      <td>452733</td>\n",
              "    </tr>\n",
              "    <tr>\n",
              "      <th>unique</th>\n",
              "      <td>NaN</td>\n",
              "      <td>5</td>\n",
              "      <td>2</td>\n",
              "      <td>3</td>\n",
              "      <td>3</td>\n",
              "      <td>5</td>\n",
              "      <td>7</td>\n",
              "      <td>NaN</td>\n",
              "      <td>NaN</td>\n",
              "      <td>2</td>\n",
              "      <td>NaN</td>\n",
              "      <td>17</td>\n",
              "    </tr>\n",
              "    <tr>\n",
              "      <th>top</th>\n",
              "      <td>NaN</td>\n",
              "      <td>2019-12-04 00:00:00</td>\n",
              "      <td>app</td>\n",
              "      <td>English</td>\n",
              "      <td>Ads</td>\n",
              "      <td>Google</td>\n",
              "      <td>Sumsung</td>\n",
              "      <td>NaN</td>\n",
              "      <td>NaN</td>\n",
              "      <td>Male</td>\n",
              "      <td>NaN</td>\n",
              "      <td>California</td>\n",
              "    </tr>\n",
              "    <tr>\n",
              "      <th>freq</th>\n",
              "      <td>NaN</td>\n",
              "      <td>140982</td>\n",
              "      <td>251242</td>\n",
              "      <td>377048</td>\n",
              "      <td>181640</td>\n",
              "      <td>68339</td>\n",
              "      <td>154933</td>\n",
              "      <td>NaN</td>\n",
              "      <td>NaN</td>\n",
              "      <td>226380</td>\n",
              "      <td>NaN</td>\n",
              "      <td>128444</td>\n",
              "    </tr>\n",
              "    <tr>\n",
              "      <th>first</th>\n",
              "      <td>NaN</td>\n",
              "      <td>2019-11-30 00:00:00</td>\n",
              "      <td>NaN</td>\n",
              "      <td>NaN</td>\n",
              "      <td>NaN</td>\n",
              "      <td>NaN</td>\n",
              "      <td>NaN</td>\n",
              "      <td>NaN</td>\n",
              "      <td>NaN</td>\n",
              "      <td>NaN</td>\n",
              "      <td>NaN</td>\n",
              "      <td>NaN</td>\n",
              "    </tr>\n",
              "    <tr>\n",
              "      <th>last</th>\n",
              "      <td>NaN</td>\n",
              "      <td>2019-12-04 00:00:00</td>\n",
              "      <td>NaN</td>\n",
              "      <td>NaN</td>\n",
              "      <td>NaN</td>\n",
              "      <td>NaN</td>\n",
              "      <td>NaN</td>\n",
              "      <td>NaN</td>\n",
              "      <td>NaN</td>\n",
              "      <td>NaN</td>\n",
              "      <td>NaN</td>\n",
              "      <td>NaN</td>\n",
              "    </tr>\n",
              "    <tr>\n",
              "      <th>mean</th>\n",
              "      <td>499947.117970</td>\n",
              "      <td>NaN</td>\n",
              "      <td>NaN</td>\n",
              "      <td>NaN</td>\n",
              "      <td>NaN</td>\n",
              "      <td>NaN</td>\n",
              "      <td>NaN</td>\n",
              "      <td>0.049552</td>\n",
              "      <td>0.476484</td>\n",
              "      <td>NaN</td>\n",
              "      <td>27.130810</td>\n",
              "      <td>NaN</td>\n",
              "    </tr>\n",
              "    <tr>\n",
              "      <th>std</th>\n",
              "      <td>288678.018612</td>\n",
              "      <td>NaN</td>\n",
              "      <td>NaN</td>\n",
              "      <td>NaN</td>\n",
              "      <td>NaN</td>\n",
              "      <td>NaN</td>\n",
              "      <td>NaN</td>\n",
              "      <td>0.217019</td>\n",
              "      <td>0.499447</td>\n",
              "      <td>NaN</td>\n",
              "      <td>6.776542</td>\n",
              "      <td>NaN</td>\n",
              "    </tr>\n",
              "    <tr>\n",
              "      <th>min</th>\n",
              "      <td>1.000000</td>\n",
              "      <td>NaN</td>\n",
              "      <td>NaN</td>\n",
              "      <td>NaN</td>\n",
              "      <td>NaN</td>\n",
              "      <td>NaN</td>\n",
              "      <td>NaN</td>\n",
              "      <td>0.000000</td>\n",
              "      <td>0.000000</td>\n",
              "      <td>NaN</td>\n",
              "      <td>18.000000</td>\n",
              "      <td>NaN</td>\n",
              "    </tr>\n",
              "    <tr>\n",
              "      <th>25%</th>\n",
              "      <td>249831.000000</td>\n",
              "      <td>NaN</td>\n",
              "      <td>NaN</td>\n",
              "      <td>NaN</td>\n",
              "      <td>NaN</td>\n",
              "      <td>NaN</td>\n",
              "      <td>NaN</td>\n",
              "      <td>0.000000</td>\n",
              "      <td>0.000000</td>\n",
              "      <td>NaN</td>\n",
              "      <td>22.000000</td>\n",
              "      <td>NaN</td>\n",
              "    </tr>\n",
              "    <tr>\n",
              "      <th>50%</th>\n",
              "      <td>500014.000000</td>\n",
              "      <td>NaN</td>\n",
              "      <td>NaN</td>\n",
              "      <td>NaN</td>\n",
              "      <td>NaN</td>\n",
              "      <td>NaN</td>\n",
              "      <td>NaN</td>\n",
              "      <td>0.000000</td>\n",
              "      <td>0.000000</td>\n",
              "      <td>NaN</td>\n",
              "      <td>26.000000</td>\n",
              "      <td>NaN</td>\n",
              "    </tr>\n",
              "    <tr>\n",
              "      <th>75%</th>\n",
              "      <td>749541.000000</td>\n",
              "      <td>NaN</td>\n",
              "      <td>NaN</td>\n",
              "      <td>NaN</td>\n",
              "      <td>NaN</td>\n",
              "      <td>NaN</td>\n",
              "      <td>NaN</td>\n",
              "      <td>0.000000</td>\n",
              "      <td>1.000000</td>\n",
              "      <td>NaN</td>\n",
              "      <td>31.000000</td>\n",
              "      <td>NaN</td>\n",
              "    </tr>\n",
              "    <tr>\n",
              "      <th>max</th>\n",
              "      <td>1000000.000000</td>\n",
              "      <td>NaN</td>\n",
              "      <td>NaN</td>\n",
              "      <td>NaN</td>\n",
              "      <td>NaN</td>\n",
              "      <td>NaN</td>\n",
              "      <td>NaN</td>\n",
              "      <td>1.000000</td>\n",
              "      <td>1.000000</td>\n",
              "      <td>NaN</td>\n",
              "      <td>70.000000</td>\n",
              "      <td>NaN</td>\n",
              "    </tr>\n",
              "  </tbody>\n",
              "</table>\n",
              "</div>"
            ],
            "text/plain": [
              "               user_id                 date  ...            age       state\n",
              "count    452733.000000               452733  ...  452733.000000      452733\n",
              "unique             NaN                    5  ...            NaN          17\n",
              "top                NaN  2019-12-04 00:00:00  ...            NaN  California\n",
              "freq               NaN               140982  ...            NaN      128444\n",
              "first              NaN  2019-11-30 00:00:00  ...            NaN         NaN\n",
              "last               NaN  2019-12-04 00:00:00  ...            NaN         NaN\n",
              "mean     499947.117970                  NaN  ...      27.130810         NaN\n",
              "std      288678.018612                  NaN  ...       6.776542         NaN\n",
              "min           1.000000                  NaN  ...      18.000000         NaN\n",
              "25%      249831.000000                  NaN  ...      22.000000         NaN\n",
              "50%      500014.000000                  NaN  ...      26.000000         NaN\n",
              "75%      749541.000000                  NaN  ...      31.000000         NaN\n",
              "max     1000000.000000                  NaN  ...      70.000000         NaN\n",
              "\n",
              "[13 rows x 12 columns]"
            ]
          },
          "metadata": {
            "tags": []
          },
          "execution_count": 11
        }
      ]
    },
    {
      "cell_type": "markdown",
      "metadata": {
        "id": "Jn4cYiQFBxcE"
      },
      "source": [
        "There are two interface, app is the most frequent one.\n",
        "\n",
        "There are three lanuges people use when visiting our website, English is the most common one.\n",
        "\n",
        "There are three customer acquisition channels, ads bring us most number of users, especially Google ads.\n",
        "\n",
        "There are seven different device and most people are use Sumsung."
      ]
    },
    {
      "cell_type": "markdown",
      "metadata": {
        "id": "puiPHLeWCaYH"
      },
      "source": [
        "# 2.Exploratory Data Analysis\n"
      ]
    },
    {
      "cell_type": "markdown",
      "metadata": {
        "id": "XnaH2n2xtd1x"
      },
      "source": [
        "check difference in A/B group by device"
      ]
    },
    {
      "cell_type": "code",
      "metadata": {
        "id": "dbgKAbgPCfRF",
        "colab": {
          "base_uri": "https://localhost:8080/"
        },
        "outputId": "b1be719d-28dc-4e0e-a28b-27157976e936"
      },
      "source": [
        "# control conversion rate by device type\n",
        "df.loc[df.condition==0].groupby('device')['conversion'].mean()"
      ],
      "execution_count": 12,
      "outputs": [
        {
          "output_type": "execute_result",
          "data": {
            "text/plain": [
              "device\n",
              "GooglePixel    0.054511\n",
              "Huawei         0.054586\n",
              "Oppo           0.056981\n",
              "Sumsung        0.055985\n",
              "Xiaomi         0.057170\n",
              "iPad           0.052804\n",
              "iPhone         0.054575\n",
              "Name: conversion, dtype: float64"
            ]
          },
          "metadata": {
            "tags": []
          },
          "execution_count": 12
        }
      ]
    },
    {
      "cell_type": "code",
      "metadata": {
        "id": "mmFM8SOM49LH",
        "colab": {
          "base_uri": "https://localhost:8080/"
        },
        "outputId": "d844da14-666f-42d9-dd8b-8c5cd810c829"
      },
      "source": [
        "# test conversion rate by device type\n",
        "df.loc[df.condition==1].groupby('device')['conversion'].mean()"
      ],
      "execution_count": 13,
      "outputs": [
        {
          "output_type": "execute_result",
          "data": {
            "text/plain": [
              "device\n",
              "GooglePixel    0.045843\n",
              "Huawei         0.043030\n",
              "Oppo           0.041596\n",
              "Sumsung        0.043461\n",
              "Xiaomi         0.049948\n",
              "iPad           0.040779\n",
              "iPhone         0.043843\n",
              "Name: conversion, dtype: float64"
            ]
          },
          "metadata": {
            "tags": []
          },
          "execution_count": 13
        }
      ]
    },
    {
      "cell_type": "markdown",
      "metadata": {
        "id": "OrpACpgEyc1v"
      },
      "source": [
        "check difference in A/B group by age groups"
      ]
    },
    {
      "cell_type": "code",
      "metadata": {
        "colab": {
          "base_uri": "https://localhost:8080/",
          "height": 204
        },
        "id": "8Gi1IMnAxJWN",
        "outputId": "f0b7d2bb-d883-473b-d7f1-547d2b91db50"
      },
      "source": [
        "# binning ages into three groups\n",
        "df.loc[df.age < 30 , 'age_group'] = '< 30'\n",
        "df.loc[(df.age >=30) & (df.age < 50) , 'age_group'] = '30 - 50'\n",
        "df.loc[df.age >= 50 , 'age_group'] = '> 50'\n",
        "df.head()"
      ],
      "execution_count": 14,
      "outputs": [
        {
          "output_type": "execute_result",
          "data": {
            "text/html": [
              "<div>\n",
              "<style scoped>\n",
              "    .dataframe tbody tr th:only-of-type {\n",
              "        vertical-align: middle;\n",
              "    }\n",
              "\n",
              "    .dataframe tbody tr th {\n",
              "        vertical-align: top;\n",
              "    }\n",
              "\n",
              "    .dataframe thead th {\n",
              "        text-align: right;\n",
              "    }\n",
              "</style>\n",
              "<table border=\"1\" class=\"dataframe\">\n",
              "  <thead>\n",
              "    <tr style=\"text-align: right;\">\n",
              "      <th></th>\n",
              "      <th>user_id</th>\n",
              "      <th>date</th>\n",
              "      <th>interface</th>\n",
              "      <th>language</th>\n",
              "      <th>channel</th>\n",
              "      <th>ads</th>\n",
              "      <th>device</th>\n",
              "      <th>conversion</th>\n",
              "      <th>condition</th>\n",
              "      <th>sex</th>\n",
              "      <th>age</th>\n",
              "      <th>state</th>\n",
              "      <th>age_group</th>\n",
              "    </tr>\n",
              "  </thead>\n",
              "  <tbody>\n",
              "    <tr>\n",
              "      <th>0</th>\n",
              "      <td>435134</td>\n",
              "      <td>2019-11-30</td>\n",
              "      <td>app</td>\n",
              "      <td>English</td>\n",
              "      <td>SEO</td>\n",
              "      <td>NaN</td>\n",
              "      <td>iPhone</td>\n",
              "      <td>0</td>\n",
              "      <td>0</td>\n",
              "      <td>Female</td>\n",
              "      <td>18</td>\n",
              "      <td>Texas</td>\n",
              "      <td>&lt; 30</td>\n",
              "    </tr>\n",
              "    <tr>\n",
              "      <th>1</th>\n",
              "      <td>310928</td>\n",
              "      <td>2019-12-04</td>\n",
              "      <td>browser</td>\n",
              "      <td>English</td>\n",
              "      <td>Ads</td>\n",
              "      <td>Baidu</td>\n",
              "      <td>Sumsung</td>\n",
              "      <td>0</td>\n",
              "      <td>0</td>\n",
              "      <td>Male</td>\n",
              "      <td>28</td>\n",
              "      <td>Massachusetts</td>\n",
              "      <td>&lt; 30</td>\n",
              "    </tr>\n",
              "    <tr>\n",
              "      <th>2</th>\n",
              "      <td>836325</td>\n",
              "      <td>2019-11-30</td>\n",
              "      <td>app</td>\n",
              "      <td>English</td>\n",
              "      <td>Ads</td>\n",
              "      <td>Google</td>\n",
              "      <td>iPhone</td>\n",
              "      <td>0</td>\n",
              "      <td>0</td>\n",
              "      <td>Female</td>\n",
              "      <td>24</td>\n",
              "      <td>California</td>\n",
              "      <td>&lt; 30</td>\n",
              "    </tr>\n",
              "    <tr>\n",
              "      <th>3</th>\n",
              "      <td>298244</td>\n",
              "      <td>2019-12-04</td>\n",
              "      <td>browser</td>\n",
              "      <td>English</td>\n",
              "      <td>Referral</td>\n",
              "      <td>NaN</td>\n",
              "      <td>Sumsung</td>\n",
              "      <td>0</td>\n",
              "      <td>0</td>\n",
              "      <td>Male</td>\n",
              "      <td>34</td>\n",
              "      <td>Michigan</td>\n",
              "      <td>30 - 50</td>\n",
              "    </tr>\n",
              "    <tr>\n",
              "      <th>4</th>\n",
              "      <td>614947</td>\n",
              "      <td>2019-12-04</td>\n",
              "      <td>app</td>\n",
              "      <td>English</td>\n",
              "      <td>Ads</td>\n",
              "      <td>Baidu</td>\n",
              "      <td>iPhone</td>\n",
              "      <td>0</td>\n",
              "      <td>1</td>\n",
              "      <td>Female</td>\n",
              "      <td>18</td>\n",
              "      <td>California</td>\n",
              "      <td>&lt; 30</td>\n",
              "    </tr>\n",
              "  </tbody>\n",
              "</table>\n",
              "</div>"
            ],
            "text/plain": [
              "   user_id       date interface language  ...     sex age          state  age_group\n",
              "0   435134 2019-11-30       app  English  ...  Female  18          Texas       < 30\n",
              "1   310928 2019-12-04   browser  English  ...    Male  28  Massachusetts       < 30\n",
              "2   836325 2019-11-30       app  English  ...  Female  24     California       < 30\n",
              "3   298244 2019-12-04   browser  English  ...    Male  34       Michigan    30 - 50\n",
              "4   614947 2019-12-04       app  English  ...  Female  18     California       < 30\n",
              "\n",
              "[5 rows x 13 columns]"
            ]
          },
          "metadata": {
            "tags": []
          },
          "execution_count": 14
        }
      ]
    },
    {
      "cell_type": "code",
      "metadata": {
        "colab": {
          "base_uri": "https://localhost:8080/"
        },
        "id": "zOHDnj22wrUE",
        "outputId": "a1c7a166-ca84-4df2-e149-1552c2dae338"
      },
      "source": [
        "# control conversion rate by age group\n",
        "df.loc[df.condition==0].groupby('age_group')['conversion'].mean()"
      ],
      "execution_count": 15,
      "outputs": [
        {
          "output_type": "execute_result",
          "data": {
            "text/plain": [
              "age_group\n",
              "30 - 50    0.056065\n",
              "< 30       0.054760\n",
              "> 50       0.045221\n",
              "Name: conversion, dtype: float64"
            ]
          },
          "metadata": {
            "tags": []
          },
          "execution_count": 15
        }
      ]
    },
    {
      "cell_type": "code",
      "metadata": {
        "colab": {
          "base_uri": "https://localhost:8080/"
        },
        "id": "-eI0EJ1jykCK",
        "outputId": "26beacb6-b756-4d78-f5fc-0bcf6a752f9e"
      },
      "source": [
        "# test conversion rate by age group\n",
        "df.loc[df.condition==1].groupby('age_group')['conversion'].mean()"
      ],
      "execution_count": 16,
      "outputs": [
        {
          "output_type": "execute_result",
          "data": {
            "text/plain": [
              "age_group\n",
              "30 - 50    0.043399\n",
              "< 30       0.043429\n",
              "> 50       0.041667\n",
              "Name: conversion, dtype: float64"
            ]
          },
          "metadata": {
            "tags": []
          },
          "execution_count": 16
        }
      ]
    },
    {
      "cell_type": "markdown",
      "metadata": {
        "id": "jD0Lk770t0Yy"
      },
      "source": [
        "check difference in A/B group by state"
      ]
    },
    {
      "cell_type": "code",
      "metadata": {
        "id": "QTSiEhj1D2cc",
        "colab": {
          "base_uri": "https://localhost:8080/"
        },
        "outputId": "16144568-e2b4-437f-c7ef-db75af2bfa70"
      },
      "source": [
        "# control conversion rate by state, sort descdending\n",
        "df.query('condition==0').groupby('state')['conversion'].mean().sort_values(ascending=False)"
      ],
      "execution_count": 17,
      "outputs": [
        {
          "output_type": "execute_result",
          "data": {
            "text/plain": [
              "state\n",
              "Pennsylvania      0.079656\n",
              "Massachusetts     0.053567\n",
              "Texas             0.052678\n",
              "Washington        0.052256\n",
              "Florida           0.052056\n",
              "Airzona           0.050906\n",
              "Virginia          0.050545\n",
              "New York          0.050356\n",
              "Michigan          0.049929\n",
              "California        0.049498\n",
              "Georgia           0.049405\n",
              "Illinois          0.049154\n",
              "Ohio              0.048493\n",
              "New Jersey        0.048132\n",
              "Tennessee         0.046796\n",
              "North Carolina    0.015079\n",
              "Indiana           0.012048\n",
              "Name: conversion, dtype: float64"
            ]
          },
          "metadata": {
            "tags": []
          },
          "execution_count": 17
        }
      ]
    },
    {
      "cell_type": "code",
      "metadata": {
        "id": "UDZuWAaZDUDr",
        "colab": {
          "base_uri": "https://localhost:8080/"
        },
        "outputId": "8f2582c1-13c2-44ac-a828-2225bd5c476d"
      },
      "source": [
        "# test conversion rate by state, sort descdending\n",
        "df.query('condition==1').groupby('state')['conversion'].mean().sort_values(ascending=False)"
      ],
      "execution_count": 18,
      "outputs": [
        {
          "output_type": "execute_result",
          "data": {
            "text/plain": [
              "state\n",
              "Washington        0.054779\n",
              "Texas             0.054210\n",
              "New Jersey        0.051305\n",
              "California        0.051183\n",
              "Florida           0.050590\n",
              "Michigan          0.050557\n",
              "Tennessee         0.049370\n",
              "Ohio              0.049229\n",
              "New York          0.048997\n",
              "Illinois          0.048995\n",
              "Virginia          0.048654\n",
              "Massachusetts     0.047947\n",
              "Georgia           0.047918\n",
              "Airzona           0.047551\n",
              "North Carolina    0.013727\n",
              "Indiana           0.012917\n",
              "Name: conversion, dtype: float64"
            ]
          },
          "metadata": {
            "tags": []
          },
          "execution_count": 18
        }
      ]
    },
    {
      "cell_type": "markdown",
      "metadata": {
        "id": "QEsQacueEBnA"
      },
      "source": [
        "From the data, PA has the highest conversion rate in control group, but not existing in the test group.\n",
        "\n",
        "The experiment has some issue as it didn't test one of the key states.\n",
        "\n",
        "In the following analysis we'll exclude PA. We should investigate on why PA is missing from the test group."
      ]
    },
    {
      "cell_type": "markdown",
      "metadata": {
        "id": "llNjeY26EvQb"
      },
      "source": [
        "# 3.Preliminary t-test\n",
        "\n",
        "- check the sample size before conduct test\n",
        "\n",
        "- welch's t-test for independent two samples\n",
        "\n",
        "- develop hypotheses to validate the results"
      ]
    },
    {
      "cell_type": "markdown",
      "metadata": {
        "id": "AsCPO-OpFHS9"
      },
      "source": [
        "We want to make sure that we have enough samples in both test and control before we conduct a preliminary t -test."
      ]
    },
    {
      "cell_type": "code",
      "metadata": {
        "id": "H3TVKytWEyen",
        "colab": {
          "base_uri": "https://localhost:8080/",
          "height": 142
        },
        "outputId": "95da1081-e884-48e8-ec47-653dcb311529"
      },
      "source": [
        "df.loc[df.state!='Pennsylvania'].groupby('condition').count() # sample size exculding PA"
      ],
      "execution_count": 19,
      "outputs": [
        {
          "output_type": "execute_result",
          "data": {
            "text/html": [
              "<div>\n",
              "<style scoped>\n",
              "    .dataframe tbody tr th:only-of-type {\n",
              "        vertical-align: middle;\n",
              "    }\n",
              "\n",
              "    .dataframe tbody tr th {\n",
              "        vertical-align: top;\n",
              "    }\n",
              "\n",
              "    .dataframe thead th {\n",
              "        text-align: right;\n",
              "    }\n",
              "</style>\n",
              "<table border=\"1\" class=\"dataframe\">\n",
              "  <thead>\n",
              "    <tr style=\"text-align: right;\">\n",
              "      <th></th>\n",
              "      <th>user_id</th>\n",
              "      <th>date</th>\n",
              "      <th>interface</th>\n",
              "      <th>language</th>\n",
              "      <th>channel</th>\n",
              "      <th>ads</th>\n",
              "      <th>device</th>\n",
              "      <th>conversion</th>\n",
              "      <th>sex</th>\n",
              "      <th>age</th>\n",
              "      <th>state</th>\n",
              "      <th>age_group</th>\n",
              "    </tr>\n",
              "    <tr>\n",
              "      <th>condition</th>\n",
              "      <th></th>\n",
              "      <th></th>\n",
              "      <th></th>\n",
              "      <th></th>\n",
              "      <th></th>\n",
              "      <th></th>\n",
              "      <th></th>\n",
              "      <th></th>\n",
              "      <th></th>\n",
              "      <th></th>\n",
              "      <th></th>\n",
              "      <th></th>\n",
              "    </tr>\n",
              "  </thead>\n",
              "  <tbody>\n",
              "    <tr>\n",
              "      <th>0</th>\n",
              "      <td>185253</td>\n",
              "      <td>185253</td>\n",
              "      <td>185253</td>\n",
              "      <td>185253</td>\n",
              "      <td>185253</td>\n",
              "      <td>74329</td>\n",
              "      <td>185253</td>\n",
              "      <td>185253</td>\n",
              "      <td>185253</td>\n",
              "      <td>185253</td>\n",
              "      <td>185253</td>\n",
              "      <td>185253</td>\n",
              "    </tr>\n",
              "    <tr>\n",
              "      <th>1</th>\n",
              "      <td>215720</td>\n",
              "      <td>215720</td>\n",
              "      <td>215720</td>\n",
              "      <td>215720</td>\n",
              "      <td>215720</td>\n",
              "      <td>86428</td>\n",
              "      <td>215720</td>\n",
              "      <td>215720</td>\n",
              "      <td>215720</td>\n",
              "      <td>215720</td>\n",
              "      <td>215720</td>\n",
              "      <td>215720</td>\n",
              "    </tr>\n",
              "  </tbody>\n",
              "</table>\n",
              "</div>"
            ],
            "text/plain": [
              "           user_id    date  interface  ...     age   state  age_group\n",
              "condition                              ...                           \n",
              "0           185253  185253     185253  ...  185253  185253     185253\n",
              "1           215720  215720     215720  ...  215720  215720     215720\n",
              "\n",
              "[2 rows x 12 columns]"
            ]
          },
          "metadata": {
            "tags": []
          },
          "execution_count": 19
        }
      ]
    },
    {
      "cell_type": "code",
      "metadata": {
        "id": "gCC0mf_rzMf9"
      },
      "source": [
        "# Pennsylvania only has users in control and exclude them from data\n",
        "df = df.loc[df.state!='Pennsylvania']\n",
        "# drop age\n",
        "df = df.drop('age', axis=1)"
      ],
      "execution_count": 20,
      "outputs": []
    },
    {
      "cell_type": "code",
      "metadata": {
        "colab": {
          "base_uri": "https://localhost:8080/"
        },
        "id": "QNdXEQblzkuU",
        "outputId": "88aa21ac-eeac-4c67-9ac7-e0ba425e36e3"
      },
      "source": [
        "# t-test of control&test for conversion rate\n",
        "test = stats.ttest_ind(df[df.condition==1]['conversion'],df[df.condition==0]['conversion'],equal_var=False)\n",
        "test"
      ],
      "execution_count": 21,
      "outputs": [
        {
          "output_type": "execute_result",
          "data": {
            "text/plain": [
              "Ttest_indResult(statistic=-7.348809649672405, pvalue=2.0037258144272322e-13)"
            ]
          },
          "metadata": {
            "tags": []
          },
          "execution_count": 21
        }
      ]
    },
    {
      "cell_type": "code",
      "metadata": {
        "colab": {
          "base_uri": "https://localhost:8080/"
        },
        "id": "IxI-bkJyHoM5",
        "outputId": "5f6317a7-2455-4f45-a786-154de3fcfefd"
      },
      "source": [
        "print('The preliminary t-test p-value is:', test.pvalue, '; and t-statistic is: ', test.statistic)\n",
        "print('The conversion rate for control group is:',round(df.loc[df.condition==0]['conversion'].mean(),3))\n",
        "print('The conversion rate for test group is:',round(df.loc[df.condition==1]['conversion'].mean(),3))"
      ],
      "execution_count": 22,
      "outputs": [
        {
          "output_type": "stream",
          "text": [
            "The preliminary t-test p-value is: 2.0037258144272322e-13 ; and t-statistic is:  -7.348809649672405\n",
            "The conversion rate for control group is: 0.048\n",
            "The conversion rate for test group is: 0.043\n"
          ],
          "name": "stdout"
        }
      ]
    },
    {
      "cell_type": "markdown",
      "metadata": {
        "id": "t8cBP3I_22Os"
      },
      "source": [
        "Preliminary t-test shows that the new UI(test) has a statistically significant decrease in conversion rate than the old UI(control). Control users convert at the rate of 4.8% while test users convert at the rate of 4.3%.(9~10% relative delta - drop)\n",
        "\n",
        "There are a couple of hypotheses we can think of:\n",
        "- New UI is really worse\n",
        "-There is more bias/error associated with the experiment data\n",
        "-we didn't collect enough data in some segments, e.g. PA doesn't have any users in test group\n",
        "\n",
        "We will continue to investigate on the experiment data to see if the users in test and control groups are randomly sampled with any bias, and sufficient data in necessary segments, before deriving any conclusions about the t-test results. Onlu after we exclude hypothesis 2) and 3), we can take hypothesis 1) and have learnings about future UI design and product from this experiment."
      ]
    },
    {
      "cell_type": "markdown",
      "metadata": {
        "id": "MNcCz9VCUnGE"
      },
      "source": [
        "# 4.Examine Bias in the Experiment\n",
        "\n",
        "- by time  \n",
        "- by device  \n",
        "- visualization with matplotlib  \n",
        "- groupby then unstack  \n",
        "- aggregation funtion  \n",
        "- lambda and derive new columns  \n"
      ]
    },
    {
      "cell_type": "markdown",
      "metadata": {
        "id": "K1W67afXNMjt"
      },
      "source": [
        "4-1. By time"
      ]
    },
    {
      "cell_type": "code",
      "metadata": {
        "id": "xp-YVUvSUvYq",
        "colab": {
          "base_uri": "https://localhost:8080/",
          "height": 235
        },
        "outputId": "d04c0189-ffb6-4160-ac7b-f0fddb207d26"
      },
      "source": [
        "# let's check # samples and conversion rate between test and control day by day\n",
        "# to see if there is any weirdness in some days, by comparing # samples and conversion rate between test and control overtime.\n",
        "temp = df. groupby(['date', 'condition'])['user_id'].count()\n",
        "temp.unstack()"
      ],
      "execution_count": 23,
      "outputs": [
        {
          "output_type": "execute_result",
          "data": {
            "text/html": [
              "<div>\n",
              "<style scoped>\n",
              "    .dataframe tbody tr th:only-of-type {\n",
              "        vertical-align: middle;\n",
              "    }\n",
              "\n",
              "    .dataframe tbody tr th {\n",
              "        vertical-align: top;\n",
              "    }\n",
              "\n",
              "    .dataframe thead th {\n",
              "        text-align: right;\n",
              "    }\n",
              "</style>\n",
              "<table border=\"1\" class=\"dataframe\">\n",
              "  <thead>\n",
              "    <tr style=\"text-align: right;\">\n",
              "      <th>condition</th>\n",
              "      <th>0</th>\n",
              "      <th>1</th>\n",
              "    </tr>\n",
              "    <tr>\n",
              "      <th>date</th>\n",
              "      <th></th>\n",
              "      <th></th>\n",
              "    </tr>\n",
              "  </thead>\n",
              "  <tbody>\n",
              "    <tr>\n",
              "      <th>2019-11-30</th>\n",
              "      <td>28971</td>\n",
              "      <td>33834</td>\n",
              "    </tr>\n",
              "    <tr>\n",
              "      <th>2019-12-01</th>\n",
              "      <td>28991</td>\n",
              "      <td>33833</td>\n",
              "    </tr>\n",
              "    <tr>\n",
              "      <th>2019-12-02</th>\n",
              "      <td>28899</td>\n",
              "      <td>33507</td>\n",
              "    </tr>\n",
              "    <tr>\n",
              "      <th>2019-12-03</th>\n",
              "      <td>40709</td>\n",
              "      <td>47371</td>\n",
              "    </tr>\n",
              "    <tr>\n",
              "      <th>2019-12-04</th>\n",
              "      <td>57683</td>\n",
              "      <td>67175</td>\n",
              "    </tr>\n",
              "  </tbody>\n",
              "</table>\n",
              "</div>"
            ],
            "text/plain": [
              "condition       0      1\n",
              "date                    \n",
              "2019-11-30  28971  33834\n",
              "2019-12-01  28991  33833\n",
              "2019-12-02  28899  33507\n",
              "2019-12-03  40709  47371\n",
              "2019-12-04  57683  67175"
            ]
          },
          "metadata": {
            "tags": []
          },
          "execution_count": 23
        }
      ]
    },
    {
      "cell_type": "code",
      "metadata": {
        "id": "rd5bKf4NVh2o",
        "colab": {
          "base_uri": "https://localhost:8080/",
          "height": 320
        },
        "outputId": "aec7c364-b5a3-41fa-d4d4-d63b54a19f32"
      },
      "source": [
        "# plot the timeseries for each A/B group\n",
        "temp.unstack().plot()"
      ],
      "execution_count": 24,
      "outputs": [
        {
          "output_type": "execute_result",
          "data": {
            "text/plain": [
              "<matplotlib.axes._subplots.AxesSubplot at 0x7f0b9cedb410>"
            ]
          },
          "metadata": {
            "tags": []
          },
          "execution_count": 24
        },
        {
          "output_type": "display_data",
          "data": {
            "image/png": "[encoded data removed]",
            "text/plain": [
              "<Figure size 432x288 with 1 Axes>"
            ]
          },
          "metadata": {
            "tags": [],
            "needs_background": "light"
          }
        }
      ]
    },
    {
      "cell_type": "markdown",
      "metadata": {
        "id": "dEVaHuDAPmpE"
      },
      "source": [
        "The experiment ran for five days. In the first three days, the number of users in both control group and the test group was relatively stable, and the number of users in the test group was slightly more than that in the experimental group. The number of users in both groups rose in the last two days."
      ]
    },
    {
      "cell_type": "code",
      "metadata": {
        "id": "s4tC4hOPWQuc",
        "colab": {
          "base_uri": "https://localhost:8080/",
          "height": 235
        },
        "outputId": "505254f9-e6b5-4ae7-9113-f957b26397eb"
      },
      "source": [
        "# calculate the ratio of the test group and the control group each day\n",
        "df.groupby('date')['conversion'].agg(ratio = lambda a: a[df.condition == 1].mean() / a[df.condition == 0].mean() )"
      ],
      "execution_count": 25,
      "outputs": [
        {
          "output_type": "execute_result",
          "data": {
            "text/html": [
              "<div>\n",
              "<style scoped>\n",
              "    .dataframe tbody tr th:only-of-type {\n",
              "        vertical-align: middle;\n",
              "    }\n",
              "\n",
              "    .dataframe tbody tr th {\n",
              "        vertical-align: top;\n",
              "    }\n",
              "\n",
              "    .dataframe thead th {\n",
              "        text-align: right;\n",
              "    }\n",
              "</style>\n",
              "<table border=\"1\" class=\"dataframe\">\n",
              "  <thead>\n",
              "    <tr style=\"text-align: right;\">\n",
              "      <th></th>\n",
              "      <th>ratio</th>\n",
              "    </tr>\n",
              "    <tr>\n",
              "      <th>date</th>\n",
              "      <th></th>\n",
              "    </tr>\n",
              "  </thead>\n",
              "  <tbody>\n",
              "    <tr>\n",
              "      <th>2019-11-30</th>\n",
              "      <td>0.858002</td>\n",
              "    </tr>\n",
              "    <tr>\n",
              "      <th>2019-12-01</th>\n",
              "      <td>0.894586</td>\n",
              "    </tr>\n",
              "    <tr>\n",
              "      <th>2019-12-02</th>\n",
              "      <td>0.911110</td>\n",
              "    </tr>\n",
              "    <tr>\n",
              "      <th>2019-12-03</th>\n",
              "      <td>0.891067</td>\n",
              "    </tr>\n",
              "    <tr>\n",
              "      <th>2019-12-04</th>\n",
              "      <td>0.923195</td>\n",
              "    </tr>\n",
              "  </tbody>\n",
              "</table>\n",
              "</div>"
            ],
            "text/plain": [
              "               ratio\n",
              "date                \n",
              "2019-11-30  0.858002\n",
              "2019-12-01  0.894586\n",
              "2019-12-02  0.911110\n",
              "2019-12-03  0.891067\n",
              "2019-12-04  0.923195"
            ]
          },
          "metadata": {
            "tags": []
          },
          "execution_count": 25
        }
      ]
    },
    {
      "cell_type": "code",
      "metadata": {
        "id": "ZH-RpmhgXFBN",
        "colab": {
          "base_uri": "https://localhost:8080/",
          "height": 320
        },
        "outputId": "81e47c50-d40c-4ac9-e9e2-3e8efdaadff2"
      },
      "source": [
        "# plot the ratio\n",
        "df.groupby('date')['conversion'].agg(ratio = lambda a: a[df.condition == 1].mean() / a[df.condition == 0].mean() ).plot()"
      ],
      "execution_count": 26,
      "outputs": [
        {
          "output_type": "execute_result",
          "data": {
            "text/plain": [
              "<matplotlib.axes._subplots.AxesSubplot at 0x7f0b9c0d3e10>"
            ]
          },
          "metadata": {
            "tags": []
          },
          "execution_count": 26
        },
        {
          "output_type": "display_data",
          "data": {
            "image/png": "[encoded data removed]",
            "text/plain": [
              "<Figure size 432x288 with 1 Axes>"
            ]
          },
          "metadata": {
            "tags": [],
            "needs_background": "light"
          }
        }
      ]
    },
    {
      "cell_type": "markdown",
      "metadata": {
        "id": "sBSjZXSdXX3E"
      },
      "source": [
        "- test group is consistently worse than control group over the 5 days.\n",
        "\n",
        "- the experiment hasn't ran for 1-2 weeks to capture weekly pattern beacuse 12/03 - 12/04 have more traffic than first 3 days, probably due to weekly pattern. there is some limitation about this data."
      ]
    },
    {
      "cell_type": "markdown",
      "metadata": {
        "id": "P4H4HsZMXwjX"
      },
      "source": [
        "4-2. By device"
      ]
    },
    {
      "cell_type": "code",
      "metadata": {
        "id": "sutx_IkBYcEe",
        "colab": {
          "base_uri": "https://localhost:8080/",
          "height": 297
        },
        "outputId": "4cb639dc-a195-47e3-fc9e-a6b7b7b017d7"
      },
      "source": [
        "# count # of users by divice in each group\n",
        "device_count = df.groupby('device')['condition'].agg(count_test = lambda a : len(a[a==1]), \n",
        "                                       count_control = lambda a : len(a[a==0]))\n",
        "device_count"
      ],
      "execution_count": 27,
      "outputs": [
        {
          "output_type": "execute_result",
          "data": {
            "text/html": [
              "<div>\n",
              "<style scoped>\n",
              "    .dataframe tbody tr th:only-of-type {\n",
              "        vertical-align: middle;\n",
              "    }\n",
              "\n",
              "    .dataframe tbody tr th {\n",
              "        vertical-align: top;\n",
              "    }\n",
              "\n",
              "    .dataframe thead th {\n",
              "        text-align: right;\n",
              "    }\n",
              "</style>\n",
              "<table border=\"1\" class=\"dataframe\">\n",
              "  <thead>\n",
              "    <tr style=\"text-align: right;\">\n",
              "      <th></th>\n",
              "      <th>count_test</th>\n",
              "      <th>count_control</th>\n",
              "    </tr>\n",
              "    <tr>\n",
              "      <th>device</th>\n",
              "      <th></th>\n",
              "      <th></th>\n",
              "    </tr>\n",
              "  </thead>\n",
              "  <tbody>\n",
              "    <tr>\n",
              "      <th>GooglePixel</th>\n",
              "      <td>22141</td>\n",
              "      <td>19097</td>\n",
              "    </tr>\n",
              "    <tr>\n",
              "      <th>Huawei</th>\n",
              "      <td>29212</td>\n",
              "      <td>25374</td>\n",
              "    </tr>\n",
              "    <tr>\n",
              "      <th>Oppo</th>\n",
              "      <td>19353</td>\n",
              "      <td>16623</td>\n",
              "    </tr>\n",
              "    <tr>\n",
              "      <th>Sumsung</th>\n",
              "      <td>74090</td>\n",
              "      <td>63227</td>\n",
              "    </tr>\n",
              "    <tr>\n",
              "      <th>Xiaomi</th>\n",
              "      <td>2883</td>\n",
              "      <td>2494</td>\n",
              "    </tr>\n",
              "    <tr>\n",
              "      <th>iPad</th>\n",
              "      <td>19299</td>\n",
              "      <td>17078</td>\n",
              "    </tr>\n",
              "    <tr>\n",
              "      <th>iPhone</th>\n",
              "      <td>48742</td>\n",
              "      <td>41360</td>\n",
              "    </tr>\n",
              "  </tbody>\n",
              "</table>\n",
              "</div>"
            ],
            "text/plain": [
              "             count_test  count_control\n",
              "device                                \n",
              "GooglePixel       22141          19097\n",
              "Huawei            29212          25374\n",
              "Oppo              19353          16623\n",
              "Sumsung           74090          63227\n",
              "Xiaomi             2883           2494\n",
              "iPad              19299          17078\n",
              "iPhone            48742          41360"
            ]
          },
          "metadata": {
            "tags": []
          },
          "execution_count": 27
        }
      ]
    },
    {
      "cell_type": "code",
      "metadata": {
        "id": "qTLLQ77yZHjF",
        "colab": {
          "base_uri": "https://localhost:8080/",
          "height": 297
        },
        "outputId": "8365bb11-6940-49c4-bcbf-61863064632f"
      },
      "source": [
        "# calculate the percentage\n",
        "device_count *100.0 / device_count.sum() #count the total # for each group"
      ],
      "execution_count": 28,
      "outputs": [
        {
          "output_type": "execute_result",
          "data": {
            "text/html": [
              "<div>\n",
              "<style scoped>\n",
              "    .dataframe tbody tr th:only-of-type {\n",
              "        vertical-align: middle;\n",
              "    }\n",
              "\n",
              "    .dataframe tbody tr th {\n",
              "        vertical-align: top;\n",
              "    }\n",
              "\n",
              "    .dataframe thead th {\n",
              "        text-align: right;\n",
              "    }\n",
              "</style>\n",
              "<table border=\"1\" class=\"dataframe\">\n",
              "  <thead>\n",
              "    <tr style=\"text-align: right;\">\n",
              "      <th></th>\n",
              "      <th>count_test</th>\n",
              "      <th>count_control</th>\n",
              "    </tr>\n",
              "    <tr>\n",
              "      <th>device</th>\n",
              "      <th></th>\n",
              "      <th></th>\n",
              "    </tr>\n",
              "  </thead>\n",
              "  <tbody>\n",
              "    <tr>\n",
              "      <th>GooglePixel</th>\n",
              "      <td>10.263768</td>\n",
              "      <td>10.308605</td>\n",
              "    </tr>\n",
              "    <tr>\n",
              "      <th>Huawei</th>\n",
              "      <td>13.541628</td>\n",
              "      <td>13.696944</td>\n",
              "    </tr>\n",
              "    <tr>\n",
              "      <th>Oppo</th>\n",
              "      <td>8.971352</td>\n",
              "      <td>8.973134</td>\n",
              "    </tr>\n",
              "    <tr>\n",
              "      <th>Sumsung</th>\n",
              "      <td>34.345448</td>\n",
              "      <td>34.130082</td>\n",
              "    </tr>\n",
              "    <tr>\n",
              "      <th>Xiaomi</th>\n",
              "      <td>1.336455</td>\n",
              "      <td>1.346267</td>\n",
              "    </tr>\n",
              "    <tr>\n",
              "      <th>iPad</th>\n",
              "      <td>8.946319</td>\n",
              "      <td>9.218744</td>\n",
              "    </tr>\n",
              "    <tr>\n",
              "      <th>iPhone</th>\n",
              "      <td>22.595031</td>\n",
              "      <td>22.326224</td>\n",
              "    </tr>\n",
              "  </tbody>\n",
              "</table>\n",
              "</div>"
            ],
            "text/plain": [
              "             count_test  count_control\n",
              "device                                \n",
              "GooglePixel   10.263768      10.308605\n",
              "Huawei        13.541628      13.696944\n",
              "Oppo           8.971352       8.973134\n",
              "Sumsung       34.345448      34.130082\n",
              "Xiaomi         1.336455       1.346267\n",
              "iPad           8.946319       9.218744\n",
              "iPhone        22.595031      22.326224"
            ]
          },
          "metadata": {
            "tags": []
          },
          "execution_count": 28
        }
      ]
    },
    {
      "cell_type": "markdown",
      "metadata": {
        "id": "_8xzo38BZYPd"
      },
      "source": [
        "test and control are well balance(comparable) across device type, no bias in device."
      ]
    },
    {
      "cell_type": "markdown",
      "metadata": {
        "id": "b0O_BbM1Zzyz"
      },
      "source": [
        "# 5.Machine Learning to Automate Data Quality Check\n",
        "\n",
        "- data filter and split\n",
        "\n",
        "- one-hot enoding\n",
        "\n",
        "- build a decision tree\n"
      ]
    },
    {
      "cell_type": "markdown",
      "metadata": {
        "id": "KmibubuwtRWM"
      },
      "source": [
        "- supervised learning: label - condition (being in test or control)\n",
        "\n",
        "\n",
        "- features : other factors(excluding conversion)\n",
        "\n",
        "**If there is a factor that can significantly explain which group a user is assigned to, it means that this factor may cause bias in the experiment**\n",
        "\n",
        "Beacuse we have categorical and continous variables, we'll use decsion tree for a quick check & understanding."
      ]
    },
    {
      "cell_type": "code",
      "metadata": {
        "id": "jIjBp9MIbnKv",
        "colab": {
          "base_uri": "https://localhost:8080/",
          "height": 204
        },
        "outputId": "6f9b00b4-645c-468a-dc15-7fa6eaa6a4b5"
      },
      "source": [
        "# make a copy of df so it won't affect the orignal data\n",
        "df_dt = df.copy()\n",
        "df_dt.head()"
      ],
      "execution_count": 29,
      "outputs": [
        {
          "output_type": "execute_result",
          "data": {
            "text/html": [
              "<div>\n",
              "<style scoped>\n",
              "    .dataframe tbody tr th:only-of-type {\n",
              "        vertical-align: middle;\n",
              "    }\n",
              "\n",
              "    .dataframe tbody tr th {\n",
              "        vertical-align: top;\n",
              "    }\n",
              "\n",
              "    .dataframe thead th {\n",
              "        text-align: right;\n",
              "    }\n",
              "</style>\n",
              "<table border=\"1\" class=\"dataframe\">\n",
              "  <thead>\n",
              "    <tr style=\"text-align: right;\">\n",
              "      <th></th>\n",
              "      <th>user_id</th>\n",
              "      <th>date</th>\n",
              "      <th>interface</th>\n",
              "      <th>language</th>\n",
              "      <th>channel</th>\n",
              "      <th>ads</th>\n",
              "      <th>device</th>\n",
              "      <th>conversion</th>\n",
              "      <th>condition</th>\n",
              "      <th>sex</th>\n",
              "      <th>state</th>\n",
              "      <th>age_group</th>\n",
              "    </tr>\n",
              "  </thead>\n",
              "  <tbody>\n",
              "    <tr>\n",
              "      <th>0</th>\n",
              "      <td>435134</td>\n",
              "      <td>2019-11-30</td>\n",
              "      <td>app</td>\n",
              "      <td>English</td>\n",
              "      <td>SEO</td>\n",
              "      <td>NaN</td>\n",
              "      <td>iPhone</td>\n",
              "      <td>0</td>\n",
              "      <td>0</td>\n",
              "      <td>Female</td>\n",
              "      <td>Texas</td>\n",
              "      <td>&lt; 30</td>\n",
              "    </tr>\n",
              "    <tr>\n",
              "      <th>1</th>\n",
              "      <td>310928</td>\n",
              "      <td>2019-12-04</td>\n",
              "      <td>browser</td>\n",
              "      <td>English</td>\n",
              "      <td>Ads</td>\n",
              "      <td>Baidu</td>\n",
              "      <td>Sumsung</td>\n",
              "      <td>0</td>\n",
              "      <td>0</td>\n",
              "      <td>Male</td>\n",
              "      <td>Massachusetts</td>\n",
              "      <td>&lt; 30</td>\n",
              "    </tr>\n",
              "    <tr>\n",
              "      <th>2</th>\n",
              "      <td>836325</td>\n",
              "      <td>2019-11-30</td>\n",
              "      <td>app</td>\n",
              "      <td>English</td>\n",
              "      <td>Ads</td>\n",
              "      <td>Google</td>\n",
              "      <td>iPhone</td>\n",
              "      <td>0</td>\n",
              "      <td>0</td>\n",
              "      <td>Female</td>\n",
              "      <td>California</td>\n",
              "      <td>&lt; 30</td>\n",
              "    </tr>\n",
              "    <tr>\n",
              "      <th>3</th>\n",
              "      <td>298244</td>\n",
              "      <td>2019-12-04</td>\n",
              "      <td>browser</td>\n",
              "      <td>English</td>\n",
              "      <td>Referral</td>\n",
              "      <td>NaN</td>\n",
              "      <td>Sumsung</td>\n",
              "      <td>0</td>\n",
              "      <td>0</td>\n",
              "      <td>Male</td>\n",
              "      <td>Michigan</td>\n",
              "      <td>30 - 50</td>\n",
              "    </tr>\n",
              "    <tr>\n",
              "      <th>4</th>\n",
              "      <td>614947</td>\n",
              "      <td>2019-12-04</td>\n",
              "      <td>app</td>\n",
              "      <td>English</td>\n",
              "      <td>Ads</td>\n",
              "      <td>Baidu</td>\n",
              "      <td>iPhone</td>\n",
              "      <td>0</td>\n",
              "      <td>1</td>\n",
              "      <td>Female</td>\n",
              "      <td>California</td>\n",
              "      <td>&lt; 30</td>\n",
              "    </tr>\n",
              "  </tbody>\n",
              "</table>\n",
              "</div>"
            ],
            "text/plain": [
              "   user_id       date interface  ...     sex          state age_group\n",
              "0   435134 2019-11-30       app  ...  Female          Texas      < 30\n",
              "1   310928 2019-12-04   browser  ...    Male  Massachusetts      < 30\n",
              "2   836325 2019-11-30       app  ...  Female     California      < 30\n",
              "3   298244 2019-12-04   browser  ...    Male       Michigan   30 - 50\n",
              "4   614947 2019-12-04       app  ...  Female     California      < 30\n",
              "\n",
              "[5 rows x 12 columns]"
            ]
          },
          "metadata": {
            "tags": []
          },
          "execution_count": 29
        }
      ]
    },
    {
      "cell_type": "code",
      "metadata": {
        "id": "Hdex_cNCbvhj"
      },
      "source": [
        "# drop columns we don't need\n",
        "df_dt = df_dt.drop(['user_id', 'conversion', 'condition'], axis = 1)"
      ],
      "execution_count": 30,
      "outputs": []
    },
    {
      "cell_type": "code",
      "metadata": {
        "id": "3LD12BqLcPau"
      },
      "source": [
        "# convert date to string so that the column can convert to dummy variable\n",
        "df_dt['date'] = df_dt['date'].apply(str)"
      ],
      "execution_count": 31,
      "outputs": []
    },
    {
      "cell_type": "code",
      "metadata": {
        "id": "hVWs51KBcZPM"
      },
      "source": [
        "# set target variable\n",
        "Y = df['condition']"
      ],
      "execution_count": 32,
      "outputs": []
    },
    {
      "cell_type": "code",
      "metadata": {
        "id": "Bf1mnyYDaEEz",
        "colab": {
          "base_uri": "https://localhost:8080/",
          "height": 258
        },
        "outputId": "4206888f-282c-424e-c539-eb4c2d2ac104"
      },
      "source": [
        "df_dt = pd.get_dummies(df_dt)\n",
        "df_dt.head()"
      ],
      "execution_count": 33,
      "outputs": [
        {
          "output_type": "execute_result",
          "data": {
            "text/html": [
              "<div>\n",
              "<style scoped>\n",
              "    .dataframe tbody tr th:only-of-type {\n",
              "        vertical-align: middle;\n",
              "    }\n",
              "\n",
              "    .dataframe tbody tr th {\n",
              "        vertical-align: top;\n",
              "    }\n",
              "\n",
              "    .dataframe thead th {\n",
              "        text-align: right;\n",
              "    }\n",
              "</style>\n",
              "<table border=\"1\" class=\"dataframe\">\n",
              "  <thead>\n",
              "    <tr style=\"text-align: right;\">\n",
              "      <th></th>\n",
              "      <th>date_2019-11-30 00:00:00</th>\n",
              "      <th>date_2019-12-01 00:00:00</th>\n",
              "      <th>date_2019-12-02 00:00:00</th>\n",
              "      <th>date_2019-12-03 00:00:00</th>\n",
              "      <th>date_2019-12-04 00:00:00</th>\n",
              "      <th>interface_app</th>\n",
              "      <th>interface_browser</th>\n",
              "      <th>language_Chinese</th>\n",
              "      <th>language_English</th>\n",
              "      <th>language_Others</th>\n",
              "      <th>channel_Ads</th>\n",
              "      <th>channel_Referral</th>\n",
              "      <th>channel_SEO</th>\n",
              "      <th>ads_Baidu</th>\n",
              "      <th>ads_Bing</th>\n",
              "      <th>ads_Google</th>\n",
              "      <th>ads_Other</th>\n",
              "      <th>ads_Yahoo</th>\n",
              "      <th>device_GooglePixel</th>\n",
              "      <th>device_Huawei</th>\n",
              "      <th>device_Oppo</th>\n",
              "      <th>device_Sumsung</th>\n",
              "      <th>device_Xiaomi</th>\n",
              "      <th>device_iPad</th>\n",
              "      <th>device_iPhone</th>\n",
              "      <th>sex_Female</th>\n",
              "      <th>sex_Male</th>\n",
              "      <th>state_Airzona</th>\n",
              "      <th>state_California</th>\n",
              "      <th>state_Florida</th>\n",
              "      <th>state_Georgia</th>\n",
              "      <th>state_Illinois</th>\n",
              "      <th>state_Indiana</th>\n",
              "      <th>state_Massachusetts</th>\n",
              "      <th>state_Michigan</th>\n",
              "      <th>state_New Jersey</th>\n",
              "      <th>state_New York</th>\n",
              "      <th>state_North Carolina</th>\n",
              "      <th>state_Ohio</th>\n",
              "      <th>state_Tennessee</th>\n",
              "      <th>state_Texas</th>\n",
              "      <th>state_Virginia</th>\n",
              "      <th>state_Washington</th>\n",
              "      <th>age_group_30 - 50</th>\n",
              "      <th>age_group_&lt; 30</th>\n",
              "      <th>age_group_&gt; 50</th>\n",
              "    </tr>\n",
              "  </thead>\n",
              "  <tbody>\n",
              "    <tr>\n",
              "      <th>0</th>\n",
              "      <td>1</td>\n",
              "      <td>0</td>\n",
              "      <td>0</td>\n",
              "      <td>0</td>\n",
              "      <td>0</td>\n",
              "      <td>1</td>\n",
              "      <td>0</td>\n",
              "      <td>0</td>\n",
              "      <td>1</td>\n",
              "      <td>0</td>\n",
              "      <td>0</td>\n",
              "      <td>0</td>\n",
              "      <td>1</td>\n",
              "      <td>0</td>\n",
              "      <td>0</td>\n",
              "      <td>0</td>\n",
              "      <td>0</td>\n",
              "      <td>0</td>\n",
              "      <td>0</td>\n",
              "      <td>0</td>\n",
              "      <td>0</td>\n",
              "      <td>0</td>\n",
              "      <td>0</td>\n",
              "      <td>0</td>\n",
              "      <td>1</td>\n",
              "      <td>1</td>\n",
              "      <td>0</td>\n",
              "      <td>0</td>\n",
              "      <td>0</td>\n",
              "      <td>0</td>\n",
              "      <td>0</td>\n",
              "      <td>0</td>\n",
              "      <td>0</td>\n",
              "      <td>0</td>\n",
              "      <td>0</td>\n",
              "      <td>0</td>\n",
              "      <td>0</td>\n",
              "      <td>0</td>\n",
              "      <td>0</td>\n",
              "      <td>0</td>\n",
              "      <td>1</td>\n",
              "      <td>0</td>\n",
              "      <td>0</td>\n",
              "      <td>0</td>\n",
              "      <td>1</td>\n",
              "      <td>0</td>\n",
              "    </tr>\n",
              "    <tr>\n",
              "      <th>1</th>\n",
              "      <td>0</td>\n",
              "      <td>0</td>\n",
              "      <td>0</td>\n",
              "      <td>0</td>\n",
              "      <td>1</td>\n",
              "      <td>0</td>\n",
              "      <td>1</td>\n",
              "      <td>0</td>\n",
              "      <td>1</td>\n",
              "      <td>0</td>\n",
              "      <td>1</td>\n",
              "      <td>0</td>\n",
              "      <td>0</td>\n",
              "      <td>1</td>\n",
              "      <td>0</td>\n",
              "      <td>0</td>\n",
              "      <td>0</td>\n",
              "      <td>0</td>\n",
              "      <td>0</td>\n",
              "      <td>0</td>\n",
              "      <td>0</td>\n",
              "      <td>1</td>\n",
              "      <td>0</td>\n",
              "      <td>0</td>\n",
              "      <td>0</td>\n",
              "      <td>0</td>\n",
              "      <td>1</td>\n",
              "      <td>0</td>\n",
              "      <td>0</td>\n",
              "      <td>0</td>\n",
              "      <td>0</td>\n",
              "      <td>0</td>\n",
              "      <td>0</td>\n",
              "      <td>1</td>\n",
              "      <td>0</td>\n",
              "      <td>0</td>\n",
              "      <td>0</td>\n",
              "      <td>0</td>\n",
              "      <td>0</td>\n",
              "      <td>0</td>\n",
              "      <td>0</td>\n",
              "      <td>0</td>\n",
              "      <td>0</td>\n",
              "      <td>0</td>\n",
              "      <td>1</td>\n",
              "      <td>0</td>\n",
              "    </tr>\n",
              "    <tr>\n",
              "      <th>2</th>\n",
              "      <td>1</td>\n",
              "      <td>0</td>\n",
              "      <td>0</td>\n",
              "      <td>0</td>\n",
              "      <td>0</td>\n",
              "      <td>1</td>\n",
              "      <td>0</td>\n",
              "      <td>0</td>\n",
              "      <td>1</td>\n",
              "      <td>0</td>\n",
              "      <td>1</td>\n",
              "      <td>0</td>\n",
              "      <td>0</td>\n",
              "      <td>0</td>\n",
              "      <td>0</td>\n",
              "      <td>1</td>\n",
              "      <td>0</td>\n",
              "      <td>0</td>\n",
              "      <td>0</td>\n",
              "      <td>0</td>\n",
              "      <td>0</td>\n",
              "      <td>0</td>\n",
              "      <td>0</td>\n",
              "      <td>0</td>\n",
              "      <td>1</td>\n",
              "      <td>1</td>\n",
              "      <td>0</td>\n",
              "      <td>0</td>\n",
              "      <td>1</td>\n",
              "      <td>0</td>\n",
              "      <td>0</td>\n",
              "      <td>0</td>\n",
              "      <td>0</td>\n",
              "      <td>0</td>\n",
              "      <td>0</td>\n",
              "      <td>0</td>\n",
              "      <td>0</td>\n",
              "      <td>0</td>\n",
              "      <td>0</td>\n",
              "      <td>0</td>\n",
              "      <td>0</td>\n",
              "      <td>0</td>\n",
              "      <td>0</td>\n",
              "      <td>0</td>\n",
              "      <td>1</td>\n",
              "      <td>0</td>\n",
              "    </tr>\n",
              "    <tr>\n",
              "      <th>3</th>\n",
              "      <td>0</td>\n",
              "      <td>0</td>\n",
              "      <td>0</td>\n",
              "      <td>0</td>\n",
              "      <td>1</td>\n",
              "      <td>0</td>\n",
              "      <td>1</td>\n",
              "      <td>0</td>\n",
              "      <td>1</td>\n",
              "      <td>0</td>\n",
              "      <td>0</td>\n",
              "      <td>1</td>\n",
              "      <td>0</td>\n",
              "      <td>0</td>\n",
              "      <td>0</td>\n",
              "      <td>0</td>\n",
              "      <td>0</td>\n",
              "      <td>0</td>\n",
              "      <td>0</td>\n",
              "      <td>0</td>\n",
              "      <td>0</td>\n",
              "      <td>1</td>\n",
              "      <td>0</td>\n",
              "      <td>0</td>\n",
              "      <td>0</td>\n",
              "      <td>0</td>\n",
              "      <td>1</td>\n",
              "      <td>0</td>\n",
              "      <td>0</td>\n",
              "      <td>0</td>\n",
              "      <td>0</td>\n",
              "      <td>0</td>\n",
              "      <td>0</td>\n",
              "      <td>0</td>\n",
              "      <td>1</td>\n",
              "      <td>0</td>\n",
              "      <td>0</td>\n",
              "      <td>0</td>\n",
              "      <td>0</td>\n",
              "      <td>0</td>\n",
              "      <td>0</td>\n",
              "      <td>0</td>\n",
              "      <td>0</td>\n",
              "      <td>1</td>\n",
              "      <td>0</td>\n",
              "      <td>0</td>\n",
              "    </tr>\n",
              "    <tr>\n",
              "      <th>4</th>\n",
              "      <td>0</td>\n",
              "      <td>0</td>\n",
              "      <td>0</td>\n",
              "      <td>0</td>\n",
              "      <td>1</td>\n",
              "      <td>1</td>\n",
              "      <td>0</td>\n",
              "      <td>0</td>\n",
              "      <td>1</td>\n",
              "      <td>0</td>\n",
              "      <td>1</td>\n",
              "      <td>0</td>\n",
              "      <td>0</td>\n",
              "      <td>1</td>\n",
              "      <td>0</td>\n",
              "      <td>0</td>\n",
              "      <td>0</td>\n",
              "      <td>0</td>\n",
              "      <td>0</td>\n",
              "      <td>0</td>\n",
              "      <td>0</td>\n",
              "      <td>0</td>\n",
              "      <td>0</td>\n",
              "      <td>0</td>\n",
              "      <td>1</td>\n",
              "      <td>1</td>\n",
              "      <td>0</td>\n",
              "      <td>0</td>\n",
              "      <td>1</td>\n",
              "      <td>0</td>\n",
              "      <td>0</td>\n",
              "      <td>0</td>\n",
              "      <td>0</td>\n",
              "      <td>0</td>\n",
              "      <td>0</td>\n",
              "      <td>0</td>\n",
              "      <td>0</td>\n",
              "      <td>0</td>\n",
              "      <td>0</td>\n",
              "      <td>0</td>\n",
              "      <td>0</td>\n",
              "      <td>0</td>\n",
              "      <td>0</td>\n",
              "      <td>0</td>\n",
              "      <td>1</td>\n",
              "      <td>0</td>\n",
              "    </tr>\n",
              "  </tbody>\n",
              "</table>\n",
              "</div>"
            ],
            "text/plain": [
              "   date_2019-11-30 00:00:00  ...  age_group_> 50\n",
              "0                         1  ...               0\n",
              "1                         0  ...               0\n",
              "2                         1  ...               0\n",
              "3                         0  ...               0\n",
              "4                         0  ...               0\n",
              "\n",
              "[5 rows x 46 columns]"
            ]
          },
          "metadata": {
            "tags": []
          },
          "execution_count": 33
        }
      ]
    },
    {
      "cell_type": "code",
      "metadata": {
        "id": "gVG04qU2dJmg"
      },
      "source": [
        "# define the decision tree model\n",
        "dt = DecisionTreeClassifier(max_depth=5, class_weight='balanced') # class_weight can adjust group weight"
      ],
      "execution_count": 34,
      "outputs": []
    },
    {
      "cell_type": "code",
      "metadata": {
        "id": "3687ln0vdUJu",
        "colab": {
          "base_uri": "https://localhost:8080/"
        },
        "outputId": "01b796f0-fdd3-41ad-ff97-0c18ee262378"
      },
      "source": [
        "# fit the model\n",
        "dt.fit(df_dt,Y)"
      ],
      "execution_count": 35,
      "outputs": [
        {
          "output_type": "execute_result",
          "data": {
            "text/plain": [
              "DecisionTreeClassifier(ccp_alpha=0.0, class_weight='balanced', criterion='gini',\n",
              "                       max_depth=5, max_features=None, max_leaf_nodes=None,\n",
              "                       min_impurity_decrease=0.0, min_impurity_split=None,\n",
              "                       min_samples_leaf=1, min_samples_split=2,\n",
              "                       min_weight_fraction_leaf=0.0, presort='deprecated',\n",
              "                       random_state=None, splitter='best')"
            ]
          },
          "metadata": {
            "tags": []
          },
          "execution_count": 35
        }
      ]
    },
    {
      "cell_type": "code",
      "metadata": {
        "id": "8nhceLnc5r88"
      },
      "source": [
        "# export the decision tree in dot format\n",
        "export_graphviz(dt,out_file='dt_plot.dot',feature_names=df_dt.columns, proportion=True)"
      ],
      "execution_count": 36,
      "outputs": []
    },
    {
      "cell_type": "code",
      "metadata": {
        "colab": {
          "base_uri": "https://localhost:8080/",
          "height": 816
        },
        "id": "q8vmRRYJ6Qhc",
        "outputId": "d092bdc2-1b7e-4a3b-bb98-680dc0dd849f"
      },
      "source": [
        "# plot the tree\n",
        "graphviz.Source.from_file('dt_plot.dot')"
      ],
      "execution_count": 37,
      "outputs": [
        {
          "output_type": "execute_result",
          "data": {
            "text/plain": [
              "<graphviz.files.Source at 0x7f0b9d1c8a90>"
            ],
            "image/svg+xml": "<?xml version=\"1.0\" encoding=\"UTF-8\" standalone=\"no\"?>\n<!DOCTYPE svg PUBLIC \"-//W3C//DTD SVG 1.1//EN\"\n \"http://www.w3.org/Graphics/SVG/1.1/DTD/svg11.dtd\">\n<!-- Generated by graphviz version 2.40.1 (20161225.0304)\n -->\n<!-- Title: Tree Pages: 1 -->\n<svg width=\"4822pt\" height=\"581pt\"\n viewBox=\"0.00 0.00 4821.50 581.00\" xmlns=\"http://www.w3.org/2000/svg\" xmlns:xlink=\"http://www.w3.org/1999/xlink\">\n<g id=\"graph0\" class=\"graph\" transform=\"scale(1 1) rotate(0) translate(4 577)\">\n<title>Tree</title>\n<polygon fill=\"#ffffff\" stroke=\"transparent\" points=\"-4,4 -4,-577 4817.5,-577 4817.5,4 -4,4\"/>\n<!-- 0 -->\n<g id=\"node1\" class=\"node\">\n<title>0</title>\n<polygon fill=\"none\" stroke=\"#000000\" points=\"2591.5,-573 2413.5,-573 2413.5,-505 2591.5,-505 2591.5,-573\"/>\n<text text-anchor=\"middle\" x=\"2502.5\" y=\"-557.8\" font-family=\"Times,serif\" font-size=\"14.00\" fill=\"#000000\">state_North Carolina &lt;= 0.5</text>\n<text text-anchor=\"middle\" x=\"2502.5\" y=\"-542.8\" font-family=\"Times,serif\" font-size=\"14.00\" fill=\"#000000\">gini = 0.5</text>\n<text text-anchor=\"middle\" x=\"2502.5\" y=\"-527.8\" font-family=\"Times,serif\" font-size=\"14.00\" fill=\"#000000\">samples = 100.0%</text>\n<text text-anchor=\"middle\" x=\"2502.5\" y=\"-512.8\" font-family=\"Times,serif\" font-size=\"14.00\" fill=\"#000000\">value = [0.5, 0.5]</text>\n</g>\n<!-- 1 -->\n<g id=\"node2\" class=\"node\">\n<title>1</title>\n<polygon fill=\"none\" stroke=\"#000000\" points=\"2012,-469 1865,-469 1865,-401 2012,-401 2012,-469\"/>\n<text text-anchor=\"middle\" x=\"1938.5\" y=\"-453.8\" font-family=\"Times,serif\" font-size=\"14.00\" fill=\"#000000\">state_Indiana &lt;= 0.5</text>\n<text text-anchor=\"middle\" x=\"1938.5\" y=\"-438.8\" font-family=\"Times,serif\" font-size=\"14.00\" fill=\"#000000\">gini = 0.498</text>\n<text text-anchor=\"middle\" x=\"1938.5\" y=\"-423.8\" font-family=\"Times,serif\" font-size=\"14.00\" fill=\"#000000\">samples = 88.3%</text>\n<text text-anchor=\"middle\" x=\"1938.5\" y=\"-408.8\" font-family=\"Times,serif\" font-size=\"14.00\" fill=\"#000000\">value = [0.535, 0.465]</text>\n</g>\n<!-- 0&#45;&gt;1 -->\n<g id=\"edge1\" class=\"edge\">\n<title>0&#45;&gt;1</title>\n<path fill=\"none\" stroke=\"#000000\" d=\"M2413.4437,-522.5783C2306.0891,-502.7824 2127.0639,-469.7706 2022.174,-450.4293\"/>\n<polygon fill=\"#000000\" stroke=\"#000000\" points=\"2022.7287,-446.9726 2012.2597,-448.6011 2021.4592,-453.8565 2022.7287,-446.9726\"/>\n<text text-anchor=\"middle\" x=\"2026.4386\" y=\"-465.4913\" font-family=\"Times,serif\" font-size=\"14.00\" fill=\"#000000\">True</text>\n</g>\n<!-- 30 -->\n<g id=\"node31\" class=\"node\">\n<title>30</title>\n<polygon fill=\"none\" stroke=\"#000000\" points=\"2985,-469 2838,-469 2838,-401 2985,-401 2985,-469\"/>\n<text text-anchor=\"middle\" x=\"2911.5\" y=\"-453.8\" font-family=\"Times,serif\" font-size=\"14.00\" fill=\"#000000\">device_iPad &lt;= 0.5</text>\n<text text-anchor=\"middle\" x=\"2911.5\" y=\"-438.8\" font-family=\"Times,serif\" font-size=\"14.00\" fill=\"#000000\">gini = 0.349</text>\n<text text-anchor=\"middle\" x=\"2911.5\" y=\"-423.8\" font-family=\"Times,serif\" font-size=\"14.00\" fill=\"#000000\">samples = 11.7%</text>\n<text text-anchor=\"middle\" x=\"2911.5\" y=\"-408.8\" font-family=\"Times,serif\" font-size=\"14.00\" fill=\"#000000\">value = [0.226, 0.774]</text>\n</g>\n<!-- 0&#45;&gt;30 -->\n<g id=\"edge30\" class=\"edge\">\n<title>0&#45;&gt;30</title>\n<path fill=\"none\" stroke=\"#000000\" d=\"M2591.7514,-516.3053C2661.9844,-498.4465 2759.145,-473.7406 2827.8823,-456.2622\"/>\n<polygon fill=\"#000000\" stroke=\"#000000\" points=\"2828.982,-459.594 2837.811,-453.7375 2827.2569,-452.8099 2828.982,-459.594\"/>\n<text text-anchor=\"middle\" x=\"2825.035\" y=\"-471.5264\" font-family=\"Times,serif\" font-size=\"14.00\" fill=\"#000000\">False</text>\n</g>\n<!-- 2 -->\n<g id=\"node3\" class=\"node\">\n<title>2</title>\n<polygon fill=\"none\" stroke=\"#000000\" points=\"1054,-365 907,-365 907,-297 1054,-297 1054,-365\"/>\n<text text-anchor=\"middle\" x=\"980.5\" y=\"-349.8\" font-family=\"Times,serif\" font-size=\"14.00\" fill=\"#000000\">device_iPad &lt;= 0.5</text>\n<text text-anchor=\"middle\" x=\"980.5\" y=\"-334.8\" font-family=\"Times,serif\" font-size=\"14.00\" fill=\"#000000\">gini = 0.497</text>\n<text text-anchor=\"middle\" x=\"980.5\" y=\"-319.8\" font-family=\"Times,serif\" font-size=\"14.00\" fill=\"#000000\">samples = 87.3%</text>\n<text text-anchor=\"middle\" x=\"980.5\" y=\"-304.8\" font-family=\"Times,serif\" font-size=\"14.00\" fill=\"#000000\">value = [0.539, 0.461]</text>\n</g>\n<!-- 1&#45;&gt;2 -->\n<g id=\"edge2\" class=\"edge\">\n<title>1&#45;&gt;2</title>\n<path fill=\"none\" stroke=\"#000000\" d=\"M1864.9181,-427.012C1689.7964,-408.0009 1249.1134,-360.1605 1064.213,-340.0878\"/>\n<polygon fill=\"#000000\" stroke=\"#000000\" points=\"1064.3232,-336.5793 1054.0039,-338.9795 1063.5677,-343.5384 1064.3232,-336.5793\"/>\n</g>\n<!-- 17 -->\n<g id=\"node18\" class=\"node\">\n<title>17</title>\n<polygon fill=\"none\" stroke=\"#000000\" points=\"2046,-365 1831,-365 1831,-297 2046,-297 2046,-365\"/>\n<text text-anchor=\"middle\" x=\"1938.5\" y=\"-349.8\" font-family=\"Times,serif\" font-size=\"14.00\" fill=\"#000000\">date_2019&#45;12&#45;03 00:00:00 &lt;= 0.5</text>\n<text text-anchor=\"middle\" x=\"1938.5\" y=\"-334.8\" font-family=\"Times,serif\" font-size=\"14.00\" fill=\"#000000\">gini = 0.204</text>\n<text text-anchor=\"middle\" x=\"1938.5\" y=\"-319.8\" font-family=\"Times,serif\" font-size=\"14.00\" fill=\"#000000\">samples = 1.0%</text>\n<text text-anchor=\"middle\" x=\"1938.5\" y=\"-304.8\" font-family=\"Times,serif\" font-size=\"14.00\" fill=\"#000000\">value = [0.115, 0.885]</text>\n</g>\n<!-- 1&#45;&gt;17 -->\n<g id=\"edge17\" class=\"edge\">\n<title>1&#45;&gt;17</title>\n<path fill=\"none\" stroke=\"#000000\" d=\"M1938.5,-400.9465C1938.5,-392.776 1938.5,-383.9318 1938.5,-375.3697\"/>\n<polygon fill=\"#000000\" stroke=\"#000000\" points=\"1942.0001,-375.13 1938.5,-365.13 1935.0001,-375.13 1942.0001,-375.13\"/>\n</g>\n<!-- 3 -->\n<g id=\"node4\" class=\"node\">\n<title>3</title>\n<polygon fill=\"none\" stroke=\"#000000\" points=\"580.5,-261 424.5,-261 424.5,-193 580.5,-193 580.5,-261\"/>\n<text text-anchor=\"middle\" x=\"502.5\" y=\"-245.8\" font-family=\"Times,serif\" font-size=\"14.00\" fill=\"#000000\">channel_Referral &lt;= 0.5</text>\n<text text-anchor=\"middle\" x=\"502.5\" y=\"-230.8\" font-family=\"Times,serif\" font-size=\"14.00\" fill=\"#000000\">gini = 0.497</text>\n<text text-anchor=\"middle\" x=\"502.5\" y=\"-215.8\" font-family=\"Times,serif\" font-size=\"14.00\" fill=\"#000000\">samples = 79.4%</text>\n<text text-anchor=\"middle\" x=\"502.5\" y=\"-200.8\" font-family=\"Times,serif\" font-size=\"14.00\" fill=\"#000000\">value = [0.539, 0.461]</text>\n</g>\n<!-- 2&#45;&gt;3 -->\n<g id=\"edge3\" class=\"edge\">\n<title>2&#45;&gt;3</title>\n<path fill=\"none\" stroke=\"#000000\" d=\"M906.8601,-314.9779C821.669,-296.4426 681.4983,-265.9452 590.6022,-246.1687\"/>\n<polygon fill=\"#000000\" stroke=\"#000000\" points=\"591.1086,-242.697 580.5931,-243.991 589.6204,-249.537 591.1086,-242.697\"/>\n</g>\n<!-- 10 -->\n<g id=\"node11\" class=\"node\">\n<title>10</title>\n<polygon fill=\"none\" stroke=\"#000000\" points=\"1055.5,-261 905.5,-261 905.5,-193 1055.5,-193 1055.5,-261\"/>\n<text text-anchor=\"middle\" x=\"980.5\" y=\"-245.8\" font-family=\"Times,serif\" font-size=\"14.00\" fill=\"#000000\">state_New York &lt;= 0.5</text>\n<text text-anchor=\"middle\" x=\"980.5\" y=\"-230.8\" font-family=\"Times,serif\" font-size=\"14.00\" fill=\"#000000\">gini = 0.496</text>\n<text text-anchor=\"middle\" x=\"980.5\" y=\"-215.8\" font-family=\"Times,serif\" font-size=\"14.00\" fill=\"#000000\">samples = 7.9%</text>\n<text text-anchor=\"middle\" x=\"980.5\" y=\"-200.8\" font-family=\"Times,serif\" font-size=\"14.00\" fill=\"#000000\">value = [0.545, 0.455]</text>\n</g>\n<!-- 2&#45;&gt;10 -->\n<g id=\"edge10\" class=\"edge\">\n<title>2&#45;&gt;10</title>\n<path fill=\"none\" stroke=\"#000000\" d=\"M980.5,-296.9465C980.5,-288.776 980.5,-279.9318 980.5,-271.3697\"/>\n<polygon fill=\"#000000\" stroke=\"#000000\" points=\"984.0001,-271.13 980.5,-261.13 977.0001,-271.13 984.0001,-271.13\"/>\n</g>\n<!-- 4 -->\n<g id=\"node5\" class=\"node\">\n<title>4</title>\n<polygon fill=\"none\" stroke=\"#000000\" points=\"312,-157 165,-157 165,-89 312,-89 312,-157\"/>\n<text text-anchor=\"middle\" x=\"238.5\" y=\"-141.8\" font-family=\"Times,serif\" font-size=\"14.00\" fill=\"#000000\">state_Illinois &lt;= 0.5</text>\n<text text-anchor=\"middle\" x=\"238.5\" y=\"-126.8\" font-family=\"Times,serif\" font-size=\"14.00\" fill=\"#000000\">gini = 0.497</text>\n<text text-anchor=\"middle\" x=\"238.5\" y=\"-111.8\" font-family=\"Times,serif\" font-size=\"14.00\" fill=\"#000000\">samples = 63.5%</text>\n<text text-anchor=\"middle\" x=\"238.5\" y=\"-96.8\" font-family=\"Times,serif\" font-size=\"14.00\" fill=\"#000000\">value = [0.538, 0.462]</text>\n</g>\n<!-- 3&#45;&gt;4 -->\n<g id=\"edge4\" class=\"edge\">\n<title>3&#45;&gt;4</title>\n<path fill=\"none\" stroke=\"#000000\" d=\"M424.3628,-196.2187C392.1191,-183.5166 354.6999,-168.7757 321.924,-155.864\"/>\n<polygon fill=\"#000000\" stroke=\"#000000\" points=\"322.95,-152.5064 312.363,-152.0975 320.3842,-159.0193 322.95,-152.5064\"/>\n</g>\n<!-- 7 -->\n<g id=\"node8\" class=\"node\">\n<title>7</title>\n<polygon fill=\"none\" stroke=\"#000000\" points=\"610,-157 395,-157 395,-89 610,-89 610,-157\"/>\n<text text-anchor=\"middle\" x=\"502.5\" y=\"-141.8\" font-family=\"Times,serif\" font-size=\"14.00\" fill=\"#000000\">date_2019&#45;12&#45;03 00:00:00 &lt;= 0.5</text>\n<text text-anchor=\"middle\" x=\"502.5\" y=\"-126.8\" font-family=\"Times,serif\" font-size=\"14.00\" fill=\"#000000\">gini = 0.496</text>\n<text text-anchor=\"middle\" x=\"502.5\" y=\"-111.8\" font-family=\"Times,serif\" font-size=\"14.00\" fill=\"#000000\">samples = 15.9%</text>\n<text text-anchor=\"middle\" x=\"502.5\" y=\"-96.8\" font-family=\"Times,serif\" font-size=\"14.00\" fill=\"#000000\">value = [0.542, 0.458]</text>\n</g>\n<!-- 3&#45;&gt;7 -->\n<g id=\"edge7\" class=\"edge\">\n<title>3&#45;&gt;7</title>\n<path fill=\"none\" stroke=\"#000000\" d=\"M502.5,-192.9465C502.5,-184.776 502.5,-175.9318 502.5,-167.3697\"/>\n<polygon fill=\"#000000\" stroke=\"#000000\" points=\"506.0001,-167.13 502.5,-157.13 499.0001,-167.13 506.0001,-167.13\"/>\n</g>\n<!-- 5 -->\n<g id=\"node6\" class=\"node\">\n<title>5</title>\n<polygon fill=\"none\" stroke=\"#000000\" points=\"147,-53 0,-53 0,0 147,0 147,-53\"/>\n<text text-anchor=\"middle\" x=\"73.5\" y=\"-37.8\" font-family=\"Times,serif\" font-size=\"14.00\" fill=\"#000000\">gini = 0.497</text>\n<text text-anchor=\"middle\" x=\"73.5\" y=\"-22.8\" font-family=\"Times,serif\" font-size=\"14.00\" fill=\"#000000\">samples = 60.6%</text>\n<text text-anchor=\"middle\" x=\"73.5\" y=\"-7.8\" font-family=\"Times,serif\" font-size=\"14.00\" fill=\"#000000\">value = [0.537, 0.463]</text>\n</g>\n<!-- 4&#45;&gt;5 -->\n<g id=\"edge5\" class=\"edge\">\n<title>4&#45;&gt;5</title>\n<path fill=\"none\" stroke=\"#000000\" d=\"M180.3272,-88.9777C163.182,-78.9504 144.4975,-68.0228 127.618,-58.1508\"/>\n<polygon fill=\"#000000\" stroke=\"#000000\" points=\"129.3724,-55.1223 118.9734,-53.095 125.8385,-61.1648 129.3724,-55.1223\"/>\n</g>\n<!-- 6 -->\n<g id=\"node7\" class=\"node\">\n<title>6</title>\n<polygon fill=\"none\" stroke=\"#000000\" points=\"312,-53 165,-53 165,0 312,0 312,-53\"/>\n<text text-anchor=\"middle\" x=\"238.5\" y=\"-37.8\" font-family=\"Times,serif\" font-size=\"14.00\" fill=\"#000000\">gini = 0.496</text>\n<text text-anchor=\"middle\" x=\"238.5\" y=\"-22.8\" font-family=\"Times,serif\" font-size=\"14.00\" fill=\"#000000\">samples = 2.9%</text>\n<text text-anchor=\"middle\" x=\"238.5\" y=\"-7.8\" font-family=\"Times,serif\" font-size=\"14.00\" fill=\"#000000\">value = [0.547, 0.453]</text>\n</g>\n<!-- 4&#45;&gt;6 -->\n<g id=\"edge6\" class=\"edge\">\n<title>4&#45;&gt;6</title>\n<path fill=\"none\" stroke=\"#000000\" d=\"M238.5,-88.9777C238.5,-80.7364 238.5,-71.887 238.5,-63.5153\"/>\n<polygon fill=\"#000000\" stroke=\"#000000\" points=\"242.0001,-63.2484 238.5,-53.2485 235.0001,-63.2485 242.0001,-63.2484\"/>\n</g>\n<!-- 8 -->\n<g id=\"node9\" class=\"node\">\n<title>8</title>\n<polygon fill=\"none\" stroke=\"#000000\" points=\"477,-53 330,-53 330,0 477,0 477,-53\"/>\n<text text-anchor=\"middle\" x=\"403.5\" y=\"-37.8\" font-family=\"Times,serif\" font-size=\"14.00\" fill=\"#000000\">gini = 0.497</text>\n<text text-anchor=\"middle\" x=\"403.5\" y=\"-22.8\" font-family=\"Times,serif\" font-size=\"14.00\" fill=\"#000000\">samples = 12.4%</text>\n<text text-anchor=\"middle\" x=\"403.5\" y=\"-7.8\" font-family=\"Times,serif\" font-size=\"14.00\" fill=\"#000000\">value = [0.539, 0.461]</text>\n</g>\n<!-- 7&#45;&gt;8 -->\n<g id=\"edge8\" class=\"edge\">\n<title>7&#45;&gt;8</title>\n<path fill=\"none\" stroke=\"#000000\" d=\"M467.5963,-88.9777C458.1082,-79.7292 447.8343,-69.7147 438.3491,-60.4691\"/>\n<polygon fill=\"#000000\" stroke=\"#000000\" points=\"440.5454,-57.7223 430.9414,-53.2485 435.6593,-62.7349 440.5454,-57.7223\"/>\n</g>\n<!-- 9 -->\n<g id=\"node10\" class=\"node\">\n<title>9</title>\n<polygon fill=\"none\" stroke=\"#000000\" points=\"642,-53 495,-53 495,0 642,0 642,-53\"/>\n<text text-anchor=\"middle\" x=\"568.5\" y=\"-37.8\" font-family=\"Times,serif\" font-size=\"14.00\" fill=\"#000000\">gini = 0.494</text>\n<text text-anchor=\"middle\" x=\"568.5\" y=\"-22.8\" font-family=\"Times,serif\" font-size=\"14.00\" fill=\"#000000\">samples = 3.5%</text>\n<text text-anchor=\"middle\" x=\"568.5\" y=\"-7.8\" font-family=\"Times,serif\" font-size=\"14.00\" fill=\"#000000\">value = [0.552, 0.448]</text>\n</g>\n<!-- 7&#45;&gt;9 -->\n<g id=\"edge9\" class=\"edge\">\n<title>7&#45;&gt;9</title>\n<path fill=\"none\" stroke=\"#000000\" d=\"M525.7691,-88.9777C531.844,-80.0954 538.4021,-70.5067 544.5135,-61.5711\"/>\n<polygon fill=\"#000000\" stroke=\"#000000\" points=\"547.4493,-63.4785 550.2057,-53.2485 541.6714,-59.5267 547.4493,-63.4785\"/>\n</g>\n<!-- 11 -->\n<g id=\"node12\" class=\"node\">\n<title>11</title>\n<polygon fill=\"none\" stroke=\"#000000\" points=\"989,-157 774,-157 774,-89 989,-89 989,-157\"/>\n<text text-anchor=\"middle\" x=\"881.5\" y=\"-141.8\" font-family=\"Times,serif\" font-size=\"14.00\" fill=\"#000000\">date_2019&#45;12&#45;03 00:00:00 &lt;= 0.5</text>\n<text text-anchor=\"middle\" x=\"881.5\" y=\"-126.8\" font-family=\"Times,serif\" font-size=\"14.00\" fill=\"#000000\">gini = 0.496</text>\n<text text-anchor=\"middle\" x=\"881.5\" y=\"-111.8\" font-family=\"Times,serif\" font-size=\"14.00\" fill=\"#000000\">samples = 7.2%</text>\n<text text-anchor=\"middle\" x=\"881.5\" y=\"-96.8\" font-family=\"Times,serif\" font-size=\"14.00\" fill=\"#000000\">value = [0.544, 0.456]</text>\n</g>\n<!-- 10&#45;&gt;11 -->\n<g id=\"edge11\" class=\"edge\">\n<title>10&#45;&gt;11</title>\n<path fill=\"none\" stroke=\"#000000\" d=\"M948.0837,-192.9465C939.4514,-183.8782 930.0289,-173.9799 921.0605,-164.5585\"/>\n<polygon fill=\"#000000\" stroke=\"#000000\" points=\"923.419,-161.9599 913.9891,-157.13 918.3489,-166.7863 923.419,-161.9599\"/>\n</g>\n<!-- 14 -->\n<g id=\"node15\" class=\"node\">\n<title>14</title>\n<polygon fill=\"none\" stroke=\"#000000\" points=\"1154,-157 1007,-157 1007,-89 1154,-89 1154,-157\"/>\n<text text-anchor=\"middle\" x=\"1080.5\" y=\"-141.8\" font-family=\"Times,serif\" font-size=\"14.00\" fill=\"#000000\">ads_Bing &lt;= 0.5</text>\n<text text-anchor=\"middle\" x=\"1080.5\" y=\"-126.8\" font-family=\"Times,serif\" font-size=\"14.00\" fill=\"#000000\">gini = 0.493</text>\n<text text-anchor=\"middle\" x=\"1080.5\" y=\"-111.8\" font-family=\"Times,serif\" font-size=\"14.00\" fill=\"#000000\">samples = 0.7%</text>\n<text text-anchor=\"middle\" x=\"1080.5\" y=\"-96.8\" font-family=\"Times,serif\" font-size=\"14.00\" fill=\"#000000\">value = [0.561, 0.439]</text>\n</g>\n<!-- 10&#45;&gt;14 -->\n<g id=\"edge14\" class=\"edge\">\n<title>10&#45;&gt;14</title>\n<path fill=\"none\" stroke=\"#000000\" d=\"M1013.2437,-192.9465C1021.9633,-183.8782 1031.4809,-173.9799 1040.5399,-164.5585\"/>\n<polygon fill=\"#000000\" stroke=\"#000000\" points=\"1043.2745,-166.7642 1047.6827,-157.13 1038.2287,-161.9125 1043.2745,-166.7642\"/>\n</g>\n<!-- 12 -->\n<g id=\"node13\" class=\"node\">\n<title>12</title>\n<polygon fill=\"none\" stroke=\"#000000\" points=\"807,-53 660,-53 660,0 807,0 807,-53\"/>\n<text text-anchor=\"middle\" x=\"733.5\" y=\"-37.8\" font-family=\"Times,serif\" font-size=\"14.00\" fill=\"#000000\">gini = 0.496</text>\n<text text-anchor=\"middle\" x=\"733.5\" y=\"-22.8\" font-family=\"Times,serif\" font-size=\"14.00\" fill=\"#000000\">samples = 5.6%</text>\n<text text-anchor=\"middle\" x=\"733.5\" y=\"-7.8\" font-family=\"Times,serif\" font-size=\"14.00\" fill=\"#000000\">value = [0.547, 0.453]</text>\n</g>\n<!-- 11&#45;&gt;12 -->\n<g id=\"edge12\" class=\"edge\">\n<title>11&#45;&gt;12</title>\n<path fill=\"none\" stroke=\"#000000\" d=\"M829.3207,-88.9777C814.2938,-79.1798 797.9485,-68.5222 783.0836,-58.8298\"/>\n<polygon fill=\"#000000\" stroke=\"#000000\" points=\"784.8119,-55.7785 774.5236,-53.2485 780.9886,-61.6422 784.8119,-55.7785\"/>\n</g>\n<!-- 13 -->\n<g id=\"node14\" class=\"node\">\n<title>13</title>\n<polygon fill=\"none\" stroke=\"#000000\" points=\"972,-53 825,-53 825,0 972,0 972,-53\"/>\n<text text-anchor=\"middle\" x=\"898.5\" y=\"-37.8\" font-family=\"Times,serif\" font-size=\"14.00\" fill=\"#000000\">gini = 0.498</text>\n<text text-anchor=\"middle\" x=\"898.5\" y=\"-22.8\" font-family=\"Times,serif\" font-size=\"14.00\" fill=\"#000000\">samples = 1.6%</text>\n<text text-anchor=\"middle\" x=\"898.5\" y=\"-7.8\" font-family=\"Times,serif\" font-size=\"14.00\" fill=\"#000000\">value = [0.534, 0.466]</text>\n</g>\n<!-- 11&#45;&gt;13 -->\n<g id=\"edge13\" class=\"edge\">\n<title>11&#45;&gt;13</title>\n<path fill=\"none\" stroke=\"#000000\" d=\"M887.4936,-88.9777C888.9615,-80.6449 890.539,-71.6903 892.0283,-63.2364\"/>\n<polygon fill=\"#000000\" stroke=\"#000000\" points=\"895.4997,-63.7041 893.7878,-53.2485 888.6059,-62.4896 895.4997,-63.7041\"/>\n</g>\n<!-- 15 -->\n<g id=\"node16\" class=\"node\">\n<title>15</title>\n<polygon fill=\"none\" stroke=\"#000000\" points=\"1137,-53 990,-53 990,0 1137,0 1137,-53\"/>\n<text text-anchor=\"middle\" x=\"1063.5\" y=\"-37.8\" font-family=\"Times,serif\" font-size=\"14.00\" fill=\"#000000\">gini = 0.492</text>\n<text text-anchor=\"middle\" x=\"1063.5\" y=\"-22.8\" font-family=\"Times,serif\" font-size=\"14.00\" fill=\"#000000\">samples = 0.7%</text>\n<text text-anchor=\"middle\" x=\"1063.5\" y=\"-7.8\" font-family=\"Times,serif\" font-size=\"14.00\" fill=\"#000000\">value = [0.565, 0.435]</text>\n</g>\n<!-- 14&#45;&gt;15 -->\n<g id=\"edge15\" class=\"edge\">\n<title>14&#45;&gt;15</title>\n<path fill=\"none\" stroke=\"#000000\" d=\"M1074.5064,-88.9777C1073.0385,-80.6449 1071.461,-71.6903 1069.9717,-63.2364\"/>\n<polygon fill=\"#000000\" stroke=\"#000000\" points=\"1073.3941,-62.4896 1068.2122,-53.2485 1066.5003,-63.7041 1073.3941,-62.4896\"/>\n</g>\n<!-- 16 -->\n<g id=\"node17\" class=\"node\">\n<title>16</title>\n<polygon fill=\"none\" stroke=\"#000000\" points=\"1302,-53 1155,-53 1155,0 1302,0 1302,-53\"/>\n<text text-anchor=\"middle\" x=\"1228.5\" y=\"-37.8\" font-family=\"Times,serif\" font-size=\"14.00\" fill=\"#000000\">gini = 0.491</text>\n<text text-anchor=\"middle\" x=\"1228.5\" y=\"-22.8\" font-family=\"Times,serif\" font-size=\"14.00\" fill=\"#000000\">samples = 0.0%</text>\n<text text-anchor=\"middle\" x=\"1228.5\" y=\"-7.8\" font-family=\"Times,serif\" font-size=\"14.00\" fill=\"#000000\">value = [0.433, 0.567]</text>\n</g>\n<!-- 14&#45;&gt;16 -->\n<g id=\"edge16\" class=\"edge\">\n<title>14&#45;&gt;16</title>\n<path fill=\"none\" stroke=\"#000000\" d=\"M1132.6793,-88.9777C1147.7062,-79.1798 1164.0515,-68.5222 1178.9164,-58.8298\"/>\n<polygon fill=\"#000000\" stroke=\"#000000\" points=\"1181.0114,-61.6422 1187.4764,-53.2485 1177.1881,-55.7785 1181.0114,-61.6422\"/>\n</g>\n<!-- 18 -->\n<g id=\"node19\" class=\"node\">\n<title>18</title>\n<polygon fill=\"none\" stroke=\"#000000\" points=\"1871,-261 1724,-261 1724,-193 1871,-193 1871,-261\"/>\n<text text-anchor=\"middle\" x=\"1797.5\" y=\"-245.8\" font-family=\"Times,serif\" font-size=\"14.00\" fill=\"#000000\">ads_Google &lt;= 0.5</text>\n<text text-anchor=\"middle\" x=\"1797.5\" y=\"-230.8\" font-family=\"Times,serif\" font-size=\"14.00\" fill=\"#000000\">gini = 0.215</text>\n<text text-anchor=\"middle\" x=\"1797.5\" y=\"-215.8\" font-family=\"Times,serif\" font-size=\"14.00\" fill=\"#000000\">samples = 0.8%</text>\n<text text-anchor=\"middle\" x=\"1797.5\" y=\"-200.8\" font-family=\"Times,serif\" font-size=\"14.00\" fill=\"#000000\">value = [0.122, 0.878]</text>\n</g>\n<!-- 17&#45;&gt;18 -->\n<g id=\"edge18\" class=\"edge\">\n<title>17&#45;&gt;18</title>\n<path fill=\"none\" stroke=\"#000000\" d=\"M1892.3313,-296.9465C1879.4281,-287.4293 1865.2855,-276.9978 1851.9517,-267.163\"/>\n<polygon fill=\"#000000\" stroke=\"#000000\" points=\"1853.8977,-264.2492 1843.7724,-261.13 1849.7425,-269.8826 1853.8977,-264.2492\"/>\n</g>\n<!-- 25 -->\n<g id=\"node26\" class=\"node\">\n<title>25</title>\n<polygon fill=\"none\" stroke=\"#000000\" points=\"2113,-261 1966,-261 1966,-193 2113,-193 2113,-261\"/>\n<text text-anchor=\"middle\" x=\"2039.5\" y=\"-245.8\" font-family=\"Times,serif\" font-size=\"14.00\" fill=\"#000000\">device_Oppo &lt;= 0.5</text>\n<text text-anchor=\"middle\" x=\"2039.5\" y=\"-230.8\" font-family=\"Times,serif\" font-size=\"14.00\" fill=\"#000000\">gini = 0.161</text>\n<text text-anchor=\"middle\" x=\"2039.5\" y=\"-215.8\" font-family=\"Times,serif\" font-size=\"14.00\" fill=\"#000000\">samples = 0.2%</text>\n<text text-anchor=\"middle\" x=\"2039.5\" y=\"-200.8\" font-family=\"Times,serif\" font-size=\"14.00\" fill=\"#000000\">value = [0.088, 0.912]</text>\n</g>\n<!-- 17&#45;&gt;25 -->\n<g id=\"edge25\" class=\"edge\">\n<title>17&#45;&gt;25</title>\n<path fill=\"none\" stroke=\"#000000\" d=\"M1971.5712,-296.9465C1980.3779,-287.8782 1989.9907,-277.9799 1999.1403,-268.5585\"/>\n<polygon fill=\"#000000\" stroke=\"#000000\" points=\"2001.8985,-270.7422 2006.3545,-261.13 1996.8768,-265.8654 2001.8985,-270.7422\"/>\n</g>\n<!-- 19 -->\n<g id=\"node20\" class=\"node\">\n<title>19</title>\n<polygon fill=\"none\" stroke=\"#000000\" points=\"1632,-157 1485,-157 1485,-89 1632,-89 1632,-157\"/>\n<text text-anchor=\"middle\" x=\"1558.5\" y=\"-141.8\" font-family=\"Times,serif\" font-size=\"14.00\" fill=\"#000000\">device_iPhone &lt;= 0.5</text>\n<text text-anchor=\"middle\" x=\"1558.5\" y=\"-126.8\" font-family=\"Times,serif\" font-size=\"14.00\" fill=\"#000000\">gini = 0.222</text>\n<text text-anchor=\"middle\" x=\"1558.5\" y=\"-111.8\" font-family=\"Times,serif\" font-size=\"14.00\" fill=\"#000000\">samples = 0.7%</text>\n<text text-anchor=\"middle\" x=\"1558.5\" y=\"-96.8\" font-family=\"Times,serif\" font-size=\"14.00\" fill=\"#000000\">value = [0.127, 0.873]</text>\n</g>\n<!-- 18&#45;&gt;19 -->\n<g id=\"edge19\" class=\"edge\">\n<title>18&#45;&gt;19</title>\n<path fill=\"none\" stroke=\"#000000\" d=\"M1723.842,-194.948C1697.8316,-183.6297 1668.406,-170.8252 1641.6635,-159.1883\"/>\n<polygon fill=\"#000000\" stroke=\"#000000\" points=\"1642.8923,-155.906 1632.3262,-155.1252 1640.0992,-162.3247 1642.8923,-155.906\"/>\n</g>\n<!-- 22 -->\n<g id=\"node23\" class=\"node\">\n<title>22</title>\n<polygon fill=\"none\" stroke=\"#000000\" points=\"1905,-157 1690,-157 1690,-89 1905,-89 1905,-157\"/>\n<text text-anchor=\"middle\" x=\"1797.5\" y=\"-141.8\" font-family=\"Times,serif\" font-size=\"14.00\" fill=\"#000000\">date_2019&#45;12&#45;01 00:00:00 &lt;= 0.5</text>\n<text text-anchor=\"middle\" x=\"1797.5\" y=\"-126.8\" font-family=\"Times,serif\" font-size=\"14.00\" fill=\"#000000\">gini = 0.174</text>\n<text text-anchor=\"middle\" x=\"1797.5\" y=\"-111.8\" font-family=\"Times,serif\" font-size=\"14.00\" fill=\"#000000\">samples = 0.1%</text>\n<text text-anchor=\"middle\" x=\"1797.5\" y=\"-96.8\" font-family=\"Times,serif\" font-size=\"14.00\" fill=\"#000000\">value = [0.096, 0.904]</text>\n</g>\n<!-- 18&#45;&gt;22 -->\n<g id=\"edge22\" class=\"edge\">\n<title>18&#45;&gt;22</title>\n<path fill=\"none\" stroke=\"#000000\" d=\"M1797.5,-192.9465C1797.5,-184.776 1797.5,-175.9318 1797.5,-167.3697\"/>\n<polygon fill=\"#000000\" stroke=\"#000000\" points=\"1801.0001,-167.13 1797.5,-157.13 1794.0001,-167.13 1801.0001,-167.13\"/>\n</g>\n<!-- 20 -->\n<g id=\"node21\" class=\"node\">\n<title>20</title>\n<polygon fill=\"none\" stroke=\"#000000\" points=\"1467,-53 1320,-53 1320,0 1467,0 1467,-53\"/>\n<text text-anchor=\"middle\" x=\"1393.5\" y=\"-37.8\" font-family=\"Times,serif\" font-size=\"14.00\" fill=\"#000000\">gini = 0.231</text>\n<text text-anchor=\"middle\" x=\"1393.5\" y=\"-22.8\" font-family=\"Times,serif\" font-size=\"14.00\" fill=\"#000000\">samples = 0.5%</text>\n<text text-anchor=\"middle\" x=\"1393.5\" y=\"-7.8\" font-family=\"Times,serif\" font-size=\"14.00\" fill=\"#000000\">value = [0.133, 0.867]</text>\n</g>\n<!-- 19&#45;&gt;20 -->\n<g id=\"edge20\" class=\"edge\">\n<title>19&#45;&gt;20</title>\n<path fill=\"none\" stroke=\"#000000\" d=\"M1500.3272,-88.9777C1483.182,-78.9504 1464.4975,-68.0228 1447.618,-58.1508\"/>\n<polygon fill=\"#000000\" stroke=\"#000000\" points=\"1449.3724,-55.1223 1438.9734,-53.095 1445.8385,-61.1648 1449.3724,-55.1223\"/>\n</g>\n<!-- 21 -->\n<g id=\"node22\" class=\"node\">\n<title>21</title>\n<polygon fill=\"none\" stroke=\"#000000\" points=\"1632,-53 1485,-53 1485,0 1632,0 1632,-53\"/>\n<text text-anchor=\"middle\" x=\"1558.5\" y=\"-37.8\" font-family=\"Times,serif\" font-size=\"14.00\" fill=\"#000000\">gini = 0.189</text>\n<text text-anchor=\"middle\" x=\"1558.5\" y=\"-22.8\" font-family=\"Times,serif\" font-size=\"14.00\" fill=\"#000000\">samples = 0.1%</text>\n<text text-anchor=\"middle\" x=\"1558.5\" y=\"-7.8\" font-family=\"Times,serif\" font-size=\"14.00\" fill=\"#000000\">value = [0.105, 0.895]</text>\n</g>\n<!-- 19&#45;&gt;21 -->\n<g id=\"edge21\" class=\"edge\">\n<title>19&#45;&gt;21</title>\n<path fill=\"none\" stroke=\"#000000\" d=\"M1558.5,-88.9777C1558.5,-80.7364 1558.5,-71.887 1558.5,-63.5153\"/>\n<polygon fill=\"#000000\" stroke=\"#000000\" points=\"1562.0001,-63.2484 1558.5,-53.2485 1555.0001,-63.2485 1562.0001,-63.2484\"/>\n</g>\n<!-- 23 -->\n<g id=\"node24\" class=\"node\">\n<title>23</title>\n<polygon fill=\"none\" stroke=\"#000000\" points=\"1797,-53 1650,-53 1650,0 1797,0 1797,-53\"/>\n<text text-anchor=\"middle\" x=\"1723.5\" y=\"-37.8\" font-family=\"Times,serif\" font-size=\"14.00\" fill=\"#000000\">gini = 0.133</text>\n<text text-anchor=\"middle\" x=\"1723.5\" y=\"-22.8\" font-family=\"Times,serif\" font-size=\"14.00\" fill=\"#000000\">samples = 0.1%</text>\n<text text-anchor=\"middle\" x=\"1723.5\" y=\"-7.8\" font-family=\"Times,serif\" font-size=\"14.00\" fill=\"#000000\">value = [0.071, 0.929]</text>\n</g>\n<!-- 22&#45;&gt;23 -->\n<g id=\"edge23\" class=\"edge\">\n<title>22&#45;&gt;23</title>\n<path fill=\"none\" stroke=\"#000000\" d=\"M1771.4104,-88.9777C1764.5289,-80.0039 1757.0944,-70.3089 1750.1822,-61.295\"/>\n<polygon fill=\"#000000\" stroke=\"#000000\" points=\"1752.8744,-59.0541 1744.0118,-53.2485 1747.3196,-63.3137 1752.8744,-59.0541\"/>\n</g>\n<!-- 24 -->\n<g id=\"node25\" class=\"node\">\n<title>24</title>\n<polygon fill=\"none\" stroke=\"#000000\" points=\"1947.5,-53 1815.5,-53 1815.5,0 1947.5,0 1947.5,-53\"/>\n<text text-anchor=\"middle\" x=\"1881.5\" y=\"-37.8\" font-family=\"Times,serif\" font-size=\"14.00\" fill=\"#000000\">gini = 0.282</text>\n<text text-anchor=\"middle\" x=\"1881.5\" y=\"-22.8\" font-family=\"Times,serif\" font-size=\"14.00\" fill=\"#000000\">samples = 0.0%</text>\n<text text-anchor=\"middle\" x=\"1881.5\" y=\"-7.8\" font-family=\"Times,serif\" font-size=\"14.00\" fill=\"#000000\">value = [0.17, 0.83]</text>\n</g>\n<!-- 22&#45;&gt;24 -->\n<g id=\"edge24\" class=\"edge\">\n<title>22&#45;&gt;24</title>\n<path fill=\"none\" stroke=\"#000000\" d=\"M1827.1153,-88.9777C1835.0064,-79.9123 1843.5381,-70.111 1851.4522,-61.0192\"/>\n<polygon fill=\"#000000\" stroke=\"#000000\" points=\"1854.2906,-63.0892 1858.2164,-53.2485 1849.0107,-58.4932 1854.2906,-63.0892\"/>\n</g>\n<!-- 26 -->\n<g id=\"node27\" class=\"node\">\n<title>26</title>\n<polygon fill=\"none\" stroke=\"#000000\" points=\"2117,-157 1962,-157 1962,-89 2117,-89 2117,-157\"/>\n<text text-anchor=\"middle\" x=\"2039.5\" y=\"-141.8\" font-family=\"Times,serif\" font-size=\"14.00\" fill=\"#000000\">age_group_&gt; 50 &lt;= 0.5</text>\n<text text-anchor=\"middle\" x=\"2039.5\" y=\"-126.8\" font-family=\"Times,serif\" font-size=\"14.00\" fill=\"#000000\">gini = 0.175</text>\n<text text-anchor=\"middle\" x=\"2039.5\" y=\"-111.8\" font-family=\"Times,serif\" font-size=\"14.00\" fill=\"#000000\">samples = 0.2%</text>\n<text text-anchor=\"middle\" x=\"2039.5\" y=\"-96.8\" font-family=\"Times,serif\" font-size=\"14.00\" fill=\"#000000\">value = [0.097, 0.903]</text>\n</g>\n<!-- 25&#45;&gt;26 -->\n<g id=\"edge26\" class=\"edge\">\n<title>25&#45;&gt;26</title>\n<path fill=\"none\" stroke=\"#000000\" d=\"M2039.5,-192.9465C2039.5,-184.776 2039.5,-175.9318 2039.5,-167.3697\"/>\n<polygon fill=\"#000000\" stroke=\"#000000\" points=\"2043.0001,-167.13 2039.5,-157.13 2036.0001,-167.13 2043.0001,-167.13\"/>\n</g>\n<!-- 29 -->\n<g id=\"node30\" class=\"node\">\n<title>29</title>\n<polygon fill=\"none\" stroke=\"#000000\" points=\"2252,-149.5 2135,-149.5 2135,-96.5 2252,-96.5 2252,-149.5\"/>\n<text text-anchor=\"middle\" x=\"2193.5\" y=\"-134.3\" font-family=\"Times,serif\" font-size=\"14.00\" fill=\"#000000\">gini = 0.0</text>\n<text text-anchor=\"middle\" x=\"2193.5\" y=\"-119.3\" font-family=\"Times,serif\" font-size=\"14.00\" fill=\"#000000\">samples = 0.0%</text>\n<text text-anchor=\"middle\" x=\"2193.5\" y=\"-104.3\" font-family=\"Times,serif\" font-size=\"14.00\" fill=\"#000000\">value = [0.0, 1.0]</text>\n</g>\n<!-- 25&#45;&gt;29 -->\n<g id=\"edge29\" class=\"edge\">\n<title>25&#45;&gt;29</title>\n<path fill=\"none\" stroke=\"#000000\" d=\"M2089.9254,-192.9465C2107.8669,-180.8301 2128.0026,-167.232 2145.7162,-155.2696\"/>\n<polygon fill=\"#000000\" stroke=\"#000000\" points=\"2147.8687,-158.0393 2154.1972,-149.5422 2143.9511,-152.2382 2147.8687,-158.0393\"/>\n</g>\n<!-- 27 -->\n<g id=\"node28\" class=\"node\">\n<title>27</title>\n<polygon fill=\"none\" stroke=\"#000000\" points=\"2113,-53 1966,-53 1966,0 2113,0 2113,-53\"/>\n<text text-anchor=\"middle\" x=\"2039.5\" y=\"-37.8\" font-family=\"Times,serif\" font-size=\"14.00\" fill=\"#000000\">gini = 0.172</text>\n<text text-anchor=\"middle\" x=\"2039.5\" y=\"-22.8\" font-family=\"Times,serif\" font-size=\"14.00\" fill=\"#000000\">samples = 0.2%</text>\n<text text-anchor=\"middle\" x=\"2039.5\" y=\"-7.8\" font-family=\"Times,serif\" font-size=\"14.00\" fill=\"#000000\">value = [0.095, 0.905]</text>\n</g>\n<!-- 26&#45;&gt;27 -->\n<g id=\"edge27\" class=\"edge\">\n<title>26&#45;&gt;27</title>\n<path fill=\"none\" stroke=\"#000000\" d=\"M2039.5,-88.9777C2039.5,-80.7364 2039.5,-71.887 2039.5,-63.5153\"/>\n<polygon fill=\"#000000\" stroke=\"#000000\" points=\"2043.0001,-63.2484 2039.5,-53.2485 2036.0001,-63.2485 2043.0001,-63.2484\"/>\n</g>\n<!-- 28 -->\n<g id=\"node29\" class=\"node\">\n<title>28</title>\n<polygon fill=\"none\" stroke=\"#000000\" points=\"2278,-53 2131,-53 2131,0 2278,0 2278,-53\"/>\n<text text-anchor=\"middle\" x=\"2204.5\" y=\"-37.8\" font-family=\"Times,serif\" font-size=\"14.00\" fill=\"#000000\">gini = 0.492</text>\n<text text-anchor=\"middle\" x=\"2204.5\" y=\"-22.8\" font-family=\"Times,serif\" font-size=\"14.00\" fill=\"#000000\">samples = 0.0%</text>\n<text text-anchor=\"middle\" x=\"2204.5\" y=\"-7.8\" font-family=\"Times,serif\" font-size=\"14.00\" fill=\"#000000\">value = [0.437, 0.563]</text>\n</g>\n<!-- 26&#45;&gt;28 -->\n<g id=\"edge28\" class=\"edge\">\n<title>26&#45;&gt;28</title>\n<path fill=\"none\" stroke=\"#000000\" d=\"M2097.6728,-88.9777C2114.818,-78.9504 2133.5025,-68.0228 2150.382,-58.1508\"/>\n<polygon fill=\"#000000\" stroke=\"#000000\" points=\"2152.1615,-61.1648 2159.0266,-53.095 2148.6276,-55.1223 2152.1615,-61.1648\"/>\n</g>\n<!-- 31 -->\n<g id=\"node32\" class=\"node\">\n<title>31</title>\n<polygon fill=\"none\" stroke=\"#000000\" points=\"2985,-365 2838,-365 2838,-297 2985,-297 2985,-365\"/>\n<text text-anchor=\"middle\" x=\"2911.5\" y=\"-349.8\" font-family=\"Times,serif\" font-size=\"14.00\" fill=\"#000000\">device_Xiaomi &lt;= 0.5</text>\n<text text-anchor=\"middle\" x=\"2911.5\" y=\"-334.8\" font-family=\"Times,serif\" font-size=\"14.00\" fill=\"#000000\">gini = 0.348</text>\n<text text-anchor=\"middle\" x=\"2911.5\" y=\"-319.8\" font-family=\"Times,serif\" font-size=\"14.00\" fill=\"#000000\">samples = 10.6%</text>\n<text text-anchor=\"middle\" x=\"2911.5\" y=\"-304.8\" font-family=\"Times,serif\" font-size=\"14.00\" fill=\"#000000\">value = [0.225, 0.775]</text>\n</g>\n<!-- 30&#45;&gt;31 -->\n<g id=\"edge31\" class=\"edge\">\n<title>30&#45;&gt;31</title>\n<path fill=\"none\" stroke=\"#000000\" d=\"M2911.5,-400.9465C2911.5,-392.776 2911.5,-383.9318 2911.5,-375.3697\"/>\n<polygon fill=\"#000000\" stroke=\"#000000\" points=\"2915.0001,-375.13 2911.5,-365.13 2908.0001,-375.13 2915.0001,-375.13\"/>\n</g>\n<!-- 46 -->\n<g id=\"node47\" class=\"node\">\n<title>46</title>\n<polygon fill=\"none\" stroke=\"#000000\" points=\"3967,-365 3820,-365 3820,-297 3967,-297 3967,-365\"/>\n<text text-anchor=\"middle\" x=\"3893.5\" y=\"-349.8\" font-family=\"Times,serif\" font-size=\"14.00\" fill=\"#000000\">ads_Yahoo &lt;= 0.5</text>\n<text text-anchor=\"middle\" x=\"3893.5\" y=\"-334.8\" font-family=\"Times,serif\" font-size=\"14.00\" fill=\"#000000\">gini = 0.361</text>\n<text text-anchor=\"middle\" x=\"3893.5\" y=\"-319.8\" font-family=\"Times,serif\" font-size=\"14.00\" fill=\"#000000\">samples = 1.0%</text>\n<text text-anchor=\"middle\" x=\"3893.5\" y=\"-304.8\" font-family=\"Times,serif\" font-size=\"14.00\" fill=\"#000000\">value = [0.237, 0.763]</text>\n</g>\n<!-- 30&#45;&gt;46 -->\n<g id=\"edge46\" class=\"edge\">\n<title>30&#45;&gt;46</title>\n<path fill=\"none\" stroke=\"#000000\" d=\"M2985.3096,-427.1831C3164.3369,-408.223 3620.7853,-359.8822 3809.6879,-339.8762\"/>\n<polygon fill=\"#000000\" stroke=\"#000000\" points=\"3810.2638,-343.3349 3819.8395,-338.8011 3809.5265,-336.3738 3810.2638,-343.3349\"/>\n</g>\n<!-- 32 -->\n<g id=\"node33\" class=\"node\">\n<title>32</title>\n<polygon fill=\"none\" stroke=\"#000000\" points=\"2879,-261 2732,-261 2732,-193 2879,-193 2879,-261\"/>\n<text text-anchor=\"middle\" x=\"2805.5\" y=\"-245.8\" font-family=\"Times,serif\" font-size=\"14.00\" fill=\"#000000\">ads_Yahoo &lt;= 0.5</text>\n<text text-anchor=\"middle\" x=\"2805.5\" y=\"-230.8\" font-family=\"Times,serif\" font-size=\"14.00\" fill=\"#000000\">gini = 0.348</text>\n<text text-anchor=\"middle\" x=\"2805.5\" y=\"-215.8\" font-family=\"Times,serif\" font-size=\"14.00\" fill=\"#000000\">samples = 10.5%</text>\n<text text-anchor=\"middle\" x=\"2805.5\" y=\"-200.8\" font-family=\"Times,serif\" font-size=\"14.00\" fill=\"#000000\">value = [0.224, 0.776]</text>\n</g>\n<!-- 31&#45;&gt;32 -->\n<g id=\"edge32\" class=\"edge\">\n<title>31&#45;&gt;32</title>\n<path fill=\"none\" stroke=\"#000000\" d=\"M2876.7916,-296.9465C2867.4574,-287.7884 2857.2604,-277.7838 2847.5727,-268.2788\"/>\n<polygon fill=\"#000000\" stroke=\"#000000\" points=\"2849.8757,-265.6351 2840.2863,-261.13 2844.9733,-270.6318 2849.8757,-265.6351\"/>\n</g>\n<!-- 39 -->\n<g id=\"node40\" class=\"node\">\n<title>39</title>\n<polygon fill=\"none\" stroke=\"#000000\" points=\"3174.5,-261 3010.5,-261 3010.5,-193 3174.5,-193 3174.5,-261\"/>\n<text text-anchor=\"middle\" x=\"3092.5\" y=\"-245.8\" font-family=\"Times,serif\" font-size=\"14.00\" fill=\"#000000\">language_Chinese &lt;= 0.5</text>\n<text text-anchor=\"middle\" x=\"3092.5\" y=\"-230.8\" font-family=\"Times,serif\" font-size=\"14.00\" fill=\"#000000\">gini = 0.375</text>\n<text text-anchor=\"middle\" x=\"3092.5\" y=\"-215.8\" font-family=\"Times,serif\" font-size=\"14.00\" fill=\"#000000\">samples = 0.2%</text>\n<text text-anchor=\"middle\" x=\"3092.5\" y=\"-200.8\" font-family=\"Times,serif\" font-size=\"14.00\" fill=\"#000000\">value = [0.25, 0.75]</text>\n</g>\n<!-- 31&#45;&gt;39 -->\n<g id=\"edge39\" class=\"edge\">\n<title>31&#45;&gt;39</title>\n<path fill=\"none\" stroke=\"#000000\" d=\"M2970.7662,-296.9465C2987.7986,-287.1599 3006.5134,-276.4066 3024.0517,-266.3294\"/>\n<polygon fill=\"#000000\" stroke=\"#000000\" points=\"3026.1738,-269.1468 3033.1007,-261.13 3022.6863,-263.0773 3026.1738,-269.1468\"/>\n</g>\n<!-- 33 -->\n<g id=\"node34\" class=\"node\">\n<title>33</title>\n<polygon fill=\"none\" stroke=\"#000000\" points=\"2635,-157 2420,-157 2420,-89 2635,-89 2635,-157\"/>\n<text text-anchor=\"middle\" x=\"2527.5\" y=\"-141.8\" font-family=\"Times,serif\" font-size=\"14.00\" fill=\"#000000\">date_2019&#45;12&#45;02 00:00:00 &lt;= 0.5</text>\n<text text-anchor=\"middle\" x=\"2527.5\" y=\"-126.8\" font-family=\"Times,serif\" font-size=\"14.00\" fill=\"#000000\">gini = 0.347</text>\n<text text-anchor=\"middle\" x=\"2527.5\" y=\"-111.8\" font-family=\"Times,serif\" font-size=\"14.00\" fill=\"#000000\">samples = 9.8%</text>\n<text text-anchor=\"middle\" x=\"2527.5\" y=\"-96.8\" font-family=\"Times,serif\" font-size=\"14.00\" fill=\"#000000\">value = [0.223, 0.777]</text>\n</g>\n<!-- 32&#45;&gt;33 -->\n<g id=\"edge33\" class=\"edge\">\n<title>32&#45;&gt;33</title>\n<path fill=\"none\" stroke=\"#000000\" d=\"M2731.731,-199.403C2699.9717,-187.5218 2662.3368,-173.4425 2628.0804,-160.6272\"/>\n<polygon fill=\"#000000\" stroke=\"#000000\" points=\"2629.108,-157.2748 2618.5156,-157.049 2626.6553,-163.831 2629.108,-157.2748\"/>\n</g>\n<!-- 36 -->\n<g id=\"node37\" class=\"node\">\n<title>36</title>\n<polygon fill=\"none\" stroke=\"#000000\" points=\"2913,-157 2698,-157 2698,-89 2913,-89 2913,-157\"/>\n<text text-anchor=\"middle\" x=\"2805.5\" y=\"-141.8\" font-family=\"Times,serif\" font-size=\"14.00\" fill=\"#000000\">date_2019&#45;12&#45;01 00:00:00 &lt;= 0.5</text>\n<text text-anchor=\"middle\" x=\"2805.5\" y=\"-126.8\" font-family=\"Times,serif\" font-size=\"14.00\" fill=\"#000000\">gini = 0.36</text>\n<text text-anchor=\"middle\" x=\"2805.5\" y=\"-111.8\" font-family=\"Times,serif\" font-size=\"14.00\" fill=\"#000000\">samples = 0.6%</text>\n<text text-anchor=\"middle\" x=\"2805.5\" y=\"-96.8\" font-family=\"Times,serif\" font-size=\"14.00\" fill=\"#000000\">value = [0.236, 0.764]</text>\n</g>\n<!-- 32&#45;&gt;36 -->\n<g id=\"edge36\" class=\"edge\">\n<title>32&#45;&gt;36</title>\n<path fill=\"none\" stroke=\"#000000\" d=\"M2805.5,-192.9465C2805.5,-184.776 2805.5,-175.9318 2805.5,-167.3697\"/>\n<polygon fill=\"#000000\" stroke=\"#000000\" points=\"2809.0001,-167.13 2805.5,-157.13 2802.0001,-167.13 2809.0001,-167.13\"/>\n</g>\n<!-- 34 -->\n<g id=\"node35\" class=\"node\">\n<title>34</title>\n<polygon fill=\"none\" stroke=\"#000000\" points=\"2443,-53 2296,-53 2296,0 2443,0 2443,-53\"/>\n<text text-anchor=\"middle\" x=\"2369.5\" y=\"-37.8\" font-family=\"Times,serif\" font-size=\"14.00\" fill=\"#000000\">gini = 0.346</text>\n<text text-anchor=\"middle\" x=\"2369.5\" y=\"-22.8\" font-family=\"Times,serif\" font-size=\"14.00\" fill=\"#000000\">samples = 8.3%</text>\n<text text-anchor=\"middle\" x=\"2369.5\" y=\"-7.8\" font-family=\"Times,serif\" font-size=\"14.00\" fill=\"#000000\">value = [0.222, 0.778]</text>\n</g>\n<!-- 33&#45;&gt;34 -->\n<g id=\"edge34\" class=\"edge\">\n<title>33&#45;&gt;34</title>\n<path fill=\"none\" stroke=\"#000000\" d=\"M2471.7951,-88.9777C2455.528,-79.0424 2437.8136,-68.2232 2421.7674,-58.4228\"/>\n<polygon fill=\"#000000\" stroke=\"#000000\" points=\"2423.4027,-55.3204 2413.0442,-53.095 2419.754,-61.2943 2423.4027,-55.3204\"/>\n</g>\n<!-- 35 -->\n<g id=\"node36\" class=\"node\">\n<title>35</title>\n<polygon fill=\"none\" stroke=\"#000000\" points=\"2593.5,-53 2461.5,-53 2461.5,0 2593.5,0 2593.5,-53\"/>\n<text text-anchor=\"middle\" x=\"2527.5\" y=\"-37.8\" font-family=\"Times,serif\" font-size=\"14.00\" fill=\"#000000\">gini = 0.355</text>\n<text text-anchor=\"middle\" x=\"2527.5\" y=\"-22.8\" font-family=\"Times,serif\" font-size=\"14.00\" fill=\"#000000\">samples = 1.5%</text>\n<text text-anchor=\"middle\" x=\"2527.5\" y=\"-7.8\" font-family=\"Times,serif\" font-size=\"14.00\" fill=\"#000000\">value = [0.23, 0.77]</text>\n</g>\n<!-- 33&#45;&gt;35 -->\n<g id=\"edge35\" class=\"edge\">\n<title>33&#45;&gt;35</title>\n<path fill=\"none\" stroke=\"#000000\" d=\"M2527.5,-88.9777C2527.5,-80.7364 2527.5,-71.887 2527.5,-63.5153\"/>\n<polygon fill=\"#000000\" stroke=\"#000000\" points=\"2531.0001,-63.2484 2527.5,-53.2485 2524.0001,-63.2485 2531.0001,-63.2484\"/>\n</g>\n<!-- 37 -->\n<g id=\"node38\" class=\"node\">\n<title>37</title>\n<polygon fill=\"none\" stroke=\"#000000\" points=\"2759,-53 2612,-53 2612,0 2759,0 2759,-53\"/>\n<text text-anchor=\"middle\" x=\"2685.5\" y=\"-37.8\" font-family=\"Times,serif\" font-size=\"14.00\" fill=\"#000000\">gini = 0.351</text>\n<text text-anchor=\"middle\" x=\"2685.5\" y=\"-22.8\" font-family=\"Times,serif\" font-size=\"14.00\" fill=\"#000000\">samples = 0.5%</text>\n<text text-anchor=\"middle\" x=\"2685.5\" y=\"-7.8\" font-family=\"Times,serif\" font-size=\"14.00\" fill=\"#000000\">value = [0.227, 0.773]</text>\n</g>\n<!-- 36&#45;&gt;37 -->\n<g id=\"edge37\" class=\"edge\">\n<title>36&#45;&gt;37</title>\n<path fill=\"none\" stroke=\"#000000\" d=\"M2763.1925,-88.9777C2751.3501,-79.4545 2738.4979,-69.1191 2726.7195,-59.6473\"/>\n<polygon fill=\"#000000\" stroke=\"#000000\" points=\"2728.7486,-56.7877 2718.7624,-53.2485 2724.3618,-62.2427 2728.7486,-56.7877\"/>\n</g>\n<!-- 38 -->\n<g id=\"node39\" class=\"node\">\n<title>38</title>\n<polygon fill=\"none\" stroke=\"#000000\" points=\"2924,-53 2777,-53 2777,0 2924,0 2924,-53\"/>\n<text text-anchor=\"middle\" x=\"2850.5\" y=\"-37.8\" font-family=\"Times,serif\" font-size=\"14.00\" fill=\"#000000\">gini = 0.402</text>\n<text text-anchor=\"middle\" x=\"2850.5\" y=\"-22.8\" font-family=\"Times,serif\" font-size=\"14.00\" fill=\"#000000\">samples = 0.1%</text>\n<text text-anchor=\"middle\" x=\"2850.5\" y=\"-7.8\" font-family=\"Times,serif\" font-size=\"14.00\" fill=\"#000000\">value = [0.278, 0.722]</text>\n</g>\n<!-- 36&#45;&gt;38 -->\n<g id=\"edge38\" class=\"edge\">\n<title>36&#45;&gt;38</title>\n<path fill=\"none\" stroke=\"#000000\" d=\"M2821.3653,-88.9777C2825.3792,-80.3702 2829.7025,-71.0992 2833.7581,-62.402\"/>\n<polygon fill=\"#000000\" stroke=\"#000000\" points=\"2836.9723,-63.7907 2838.0266,-53.2485 2830.6282,-60.8323 2836.9723,-63.7907\"/>\n</g>\n<!-- 40 -->\n<g id=\"node41\" class=\"node\">\n<title>40</title>\n<polygon fill=\"none\" stroke=\"#000000\" points=\"3177.5,-157 3007.5,-157 3007.5,-89 3177.5,-89 3177.5,-157\"/>\n<text text-anchor=\"middle\" x=\"3092.5\" y=\"-141.8\" font-family=\"Times,serif\" font-size=\"14.00\" fill=\"#000000\">age_group_30 &#45; 50 &lt;= 0.5</text>\n<text text-anchor=\"middle\" x=\"3092.5\" y=\"-126.8\" font-family=\"Times,serif\" font-size=\"14.00\" fill=\"#000000\">gini = 0.361</text>\n<text text-anchor=\"middle\" x=\"3092.5\" y=\"-111.8\" font-family=\"Times,serif\" font-size=\"14.00\" fill=\"#000000\">samples = 0.1%</text>\n<text text-anchor=\"middle\" x=\"3092.5\" y=\"-96.8\" font-family=\"Times,serif\" font-size=\"14.00\" fill=\"#000000\">value = [0.237, 0.763]</text>\n</g>\n<!-- 39&#45;&gt;40 -->\n<g id=\"edge40\" class=\"edge\">\n<title>39&#45;&gt;40</title>\n<path fill=\"none\" stroke=\"#000000\" d=\"M3092.5,-192.9465C3092.5,-184.776 3092.5,-175.9318 3092.5,-167.3697\"/>\n<polygon fill=\"#000000\" stroke=\"#000000\" points=\"3096.0001,-167.13 3092.5,-157.13 3089.0001,-167.13 3096.0001,-167.13\"/>\n</g>\n<!-- 43 -->\n<g id=\"node44\" class=\"node\">\n<title>43</title>\n<polygon fill=\"none\" stroke=\"#000000\" points=\"3419,-157 3272,-157 3272,-89 3419,-89 3419,-157\"/>\n<text text-anchor=\"middle\" x=\"3345.5\" y=\"-141.8\" font-family=\"Times,serif\" font-size=\"14.00\" fill=\"#000000\">ads_Bing &lt;= 0.5</text>\n<text text-anchor=\"middle\" x=\"3345.5\" y=\"-126.8\" font-family=\"Times,serif\" font-size=\"14.00\" fill=\"#000000\">gini = 0.445</text>\n<text text-anchor=\"middle\" x=\"3345.5\" y=\"-111.8\" font-family=\"Times,serif\" font-size=\"14.00\" fill=\"#000000\">samples = 0.0%</text>\n<text text-anchor=\"middle\" x=\"3345.5\" y=\"-96.8\" font-family=\"Times,serif\" font-size=\"14.00\" fill=\"#000000\">value = [0.334, 0.666]</text>\n</g>\n<!-- 39&#45;&gt;43 -->\n<g id=\"edge43\" class=\"edge\">\n<title>39&#45;&gt;43</title>\n<path fill=\"none\" stroke=\"#000000\" d=\"M3174.6418,-193.2342C3202.772,-181.6708 3234.2528,-168.7301 3262.4539,-157.1375\"/>\n<polygon fill=\"#000000\" stroke=\"#000000\" points=\"3263.9641,-160.301 3271.8824,-153.2618 3261.3027,-153.8266 3263.9641,-160.301\"/>\n</g>\n<!-- 41 -->\n<g id=\"node42\" class=\"node\">\n<title>41</title>\n<polygon fill=\"none\" stroke=\"#000000\" points=\"3089,-53 2942,-53 2942,0 3089,0 3089,-53\"/>\n<text text-anchor=\"middle\" x=\"3015.5\" y=\"-37.8\" font-family=\"Times,serif\" font-size=\"14.00\" fill=\"#000000\">gini = 0.38</text>\n<text text-anchor=\"middle\" x=\"3015.5\" y=\"-22.8\" font-family=\"Times,serif\" font-size=\"14.00\" fill=\"#000000\">samples = 0.1%</text>\n<text text-anchor=\"middle\" x=\"3015.5\" y=\"-7.8\" font-family=\"Times,serif\" font-size=\"14.00\" fill=\"#000000\">value = [0.255, 0.745]</text>\n</g>\n<!-- 40&#45;&gt;41 -->\n<g id=\"edge41\" class=\"edge\">\n<title>40&#45;&gt;41</title>\n<path fill=\"none\" stroke=\"#000000\" d=\"M3065.3527,-88.9777C3058.1922,-80.0039 3050.4564,-70.3089 3043.2639,-61.295\"/>\n<polygon fill=\"#000000\" stroke=\"#000000\" points=\"3045.8163,-58.8821 3036.8433,-53.2485 3040.3446,-63.2481 3045.8163,-58.8821\"/>\n</g>\n<!-- 42 -->\n<g id=\"node43\" class=\"node\">\n<title>42</title>\n<polygon fill=\"none\" stroke=\"#000000\" points=\"3254,-53 3107,-53 3107,0 3254,0 3254,-53\"/>\n<text text-anchor=\"middle\" x=\"3180.5\" y=\"-37.8\" font-family=\"Times,serif\" font-size=\"14.00\" fill=\"#000000\">gini = 0.318</text>\n<text text-anchor=\"middle\" x=\"3180.5\" y=\"-22.8\" font-family=\"Times,serif\" font-size=\"14.00\" fill=\"#000000\">samples = 0.0%</text>\n<text text-anchor=\"middle\" x=\"3180.5\" y=\"-7.8\" font-family=\"Times,serif\" font-size=\"14.00\" fill=\"#000000\">value = [0.198, 0.802]</text>\n</g>\n<!-- 40&#45;&gt;42 -->\n<g id=\"edge42\" class=\"edge\">\n<title>40&#45;&gt;42</title>\n<path fill=\"none\" stroke=\"#000000\" d=\"M3123.5255,-88.9777C3131.8759,-79.8207 3140.911,-69.9129 3149.2724,-60.744\"/>\n<polygon fill=\"#000000\" stroke=\"#000000\" points=\"3151.9556,-62.9959 3156.1076,-53.2485 3146.7833,-58.2791 3151.9556,-62.9959\"/>\n</g>\n<!-- 44 -->\n<g id=\"node45\" class=\"node\">\n<title>44</title>\n<polygon fill=\"none\" stroke=\"#000000\" points=\"3419,-53 3272,-53 3272,0 3419,0 3419,-53\"/>\n<text text-anchor=\"middle\" x=\"3345.5\" y=\"-37.8\" font-family=\"Times,serif\" font-size=\"14.00\" fill=\"#000000\">gini = 0.432</text>\n<text text-anchor=\"middle\" x=\"3345.5\" y=\"-22.8\" font-family=\"Times,serif\" font-size=\"14.00\" fill=\"#000000\">samples = 0.0%</text>\n<text text-anchor=\"middle\" x=\"3345.5\" y=\"-7.8\" font-family=\"Times,serif\" font-size=\"14.00\" fill=\"#000000\">value = [0.316, 0.684]</text>\n</g>\n<!-- 43&#45;&gt;44 -->\n<g id=\"edge44\" class=\"edge\">\n<title>43&#45;&gt;44</title>\n<path fill=\"none\" stroke=\"#000000\" d=\"M3345.5,-88.9777C3345.5,-80.7364 3345.5,-71.887 3345.5,-63.5153\"/>\n<polygon fill=\"#000000\" stroke=\"#000000\" points=\"3349.0001,-63.2484 3345.5,-53.2485 3342.0001,-63.2485 3349.0001,-63.2484\"/>\n</g>\n<!-- 45 -->\n<g id=\"node46\" class=\"node\">\n<title>45</title>\n<polygon fill=\"none\" stroke=\"#000000\" points=\"3554,-53 3437,-53 3437,0 3554,0 3554,-53\"/>\n<text text-anchor=\"middle\" x=\"3495.5\" y=\"-37.8\" font-family=\"Times,serif\" font-size=\"14.00\" fill=\"#000000\">gini = &#45;0.0</text>\n<text text-anchor=\"middle\" x=\"3495.5\" y=\"-22.8\" font-family=\"Times,serif\" font-size=\"14.00\" fill=\"#000000\">samples = 0.0%</text>\n<text text-anchor=\"middle\" x=\"3495.5\" y=\"-7.8\" font-family=\"Times,serif\" font-size=\"14.00\" fill=\"#000000\">value = [1.0, 0.0]</text>\n</g>\n<!-- 43&#45;&gt;45 -->\n<g id=\"edge45\" class=\"edge\">\n<title>43&#45;&gt;45</title>\n<path fill=\"none\" stroke=\"#000000\" d=\"M3398.3844,-88.9777C3413.6144,-79.1798 3430.1806,-68.5222 3445.2464,-58.8298\"/>\n<polygon fill=\"#000000\" stroke=\"#000000\" points=\"3447.4057,-61.6024 3453.9221,-53.2485 3443.6184,-55.7154 3447.4057,-61.6024\"/>\n</g>\n<!-- 47 -->\n<g id=\"node48\" class=\"node\">\n<title>47</title>\n<polygon fill=\"none\" stroke=\"#000000\" points=\"3971,-261 3816,-261 3816,-193 3971,-193 3971,-261\"/>\n<text text-anchor=\"middle\" x=\"3893.5\" y=\"-245.8\" font-family=\"Times,serif\" font-size=\"14.00\" fill=\"#000000\">age_group_&gt; 50 &lt;= 0.5</text>\n<text text-anchor=\"middle\" x=\"3893.5\" y=\"-230.8\" font-family=\"Times,serif\" font-size=\"14.00\" fill=\"#000000\">gini = 0.364</text>\n<text text-anchor=\"middle\" x=\"3893.5\" y=\"-215.8\" font-family=\"Times,serif\" font-size=\"14.00\" fill=\"#000000\">samples = 1.0%</text>\n<text text-anchor=\"middle\" x=\"3893.5\" y=\"-200.8\" font-family=\"Times,serif\" font-size=\"14.00\" fill=\"#000000\">value = [0.239, 0.761]</text>\n</g>\n<!-- 46&#45;&gt;47 -->\n<g id=\"edge47\" class=\"edge\">\n<title>46&#45;&gt;47</title>\n<path fill=\"none\" stroke=\"#000000\" d=\"M3893.5,-296.9465C3893.5,-288.776 3893.5,-279.9318 3893.5,-271.3697\"/>\n<polygon fill=\"#000000\" stroke=\"#000000\" points=\"3897.0001,-271.13 3893.5,-261.13 3890.0001,-271.13 3897.0001,-271.13\"/>\n</g>\n<!-- 54 -->\n<g id=\"node55\" class=\"node\">\n<title>54</title>\n<polygon fill=\"none\" stroke=\"#000000\" points=\"4401,-261 4238,-261 4238,-193 4401,-193 4401,-261\"/>\n<text text-anchor=\"middle\" x=\"4319.5\" y=\"-245.8\" font-family=\"Times,serif\" font-size=\"14.00\" fill=\"#000000\">language_English &lt;= 0.5</text>\n<text text-anchor=\"middle\" x=\"4319.5\" y=\"-230.8\" font-family=\"Times,serif\" font-size=\"14.00\" fill=\"#000000\">gini = 0.316</text>\n<text text-anchor=\"middle\" x=\"4319.5\" y=\"-215.8\" font-family=\"Times,serif\" font-size=\"14.00\" fill=\"#000000\">samples = 0.1%</text>\n<text text-anchor=\"middle\" x=\"4319.5\" y=\"-200.8\" font-family=\"Times,serif\" font-size=\"14.00\" fill=\"#000000\">value = [0.197, 0.803]</text>\n</g>\n<!-- 46&#45;&gt;54 -->\n<g id=\"edge54\" class=\"edge\">\n<title>46&#45;&gt;54</title>\n<path fill=\"none\" stroke=\"#000000\" d=\"M3967.2172,-313.0033C4039.6107,-295.3298 4150.2294,-268.3243 4228.1598,-249.299\"/>\n<polygon fill=\"#000000\" stroke=\"#000000\" points=\"4229.0895,-252.6749 4237.9741,-246.903 4227.4293,-245.8746 4229.0895,-252.6749\"/>\n</g>\n<!-- 48 -->\n<g id=\"node49\" class=\"node\">\n<title>48</title>\n<polygon fill=\"none\" stroke=\"#000000\" points=\"3871,-157 3708,-157 3708,-89 3871,-89 3871,-157\"/>\n<text text-anchor=\"middle\" x=\"3789.5\" y=\"-141.8\" font-family=\"Times,serif\" font-size=\"14.00\" fill=\"#000000\">language_English &lt;= 0.5</text>\n<text text-anchor=\"middle\" x=\"3789.5\" y=\"-126.8\" font-family=\"Times,serif\" font-size=\"14.00\" fill=\"#000000\">gini = 0.363</text>\n<text text-anchor=\"middle\" x=\"3789.5\" y=\"-111.8\" font-family=\"Times,serif\" font-size=\"14.00\" fill=\"#000000\">samples = 1.0%</text>\n<text text-anchor=\"middle\" x=\"3789.5\" y=\"-96.8\" font-family=\"Times,serif\" font-size=\"14.00\" fill=\"#000000\">value = [0.239, 0.761]</text>\n</g>\n<!-- 47&#45;&gt;48 -->\n<g id=\"edge48\" class=\"edge\">\n<title>47&#45;&gt;48</title>\n<path fill=\"none\" stroke=\"#000000\" d=\"M3859.4465,-192.9465C3850.2884,-183.7884 3840.2838,-173.7838 3830.7788,-164.2788\"/>\n<polygon fill=\"#000000\" stroke=\"#000000\" points=\"3833.176,-161.7262 3823.63,-157.13 3828.2262,-166.676 3833.176,-161.7262\"/>\n</g>\n<!-- 51 -->\n<g id=\"node52\" class=\"node\">\n<title>51</title>\n<polygon fill=\"none\" stroke=\"#000000\" points=\"4104,-157 3889,-157 3889,-89 4104,-89 4104,-157\"/>\n<text text-anchor=\"middle\" x=\"3996.5\" y=\"-141.8\" font-family=\"Times,serif\" font-size=\"14.00\" fill=\"#000000\">date_2019&#45;12&#45;02 00:00:00 &lt;= 0.5</text>\n<text text-anchor=\"middle\" x=\"3996.5\" y=\"-126.8\" font-family=\"Times,serif\" font-size=\"14.00\" fill=\"#000000\">gini = 0.477</text>\n<text text-anchor=\"middle\" x=\"3996.5\" y=\"-111.8\" font-family=\"Times,serif\" font-size=\"14.00\" fill=\"#000000\">samples = 0.0%</text>\n<text text-anchor=\"middle\" x=\"3996.5\" y=\"-96.8\" font-family=\"Times,serif\" font-size=\"14.00\" fill=\"#000000\">value = [0.393, 0.607]</text>\n</g>\n<!-- 47&#45;&gt;51 -->\n<g id=\"edge51\" class=\"edge\">\n<title>47&#45;&gt;51</title>\n<path fill=\"none\" stroke=\"#000000\" d=\"M3927.2261,-192.9465C3936.2961,-183.7884 3946.2045,-173.7838 3955.6181,-164.2788\"/>\n<polygon fill=\"#000000\" stroke=\"#000000\" points=\"3958.1481,-166.6981 3962.6982,-157.13 3953.1745,-161.7723 3958.1481,-166.6981\"/>\n</g>\n<!-- 49 -->\n<g id=\"node50\" class=\"node\">\n<title>49</title>\n<polygon fill=\"none\" stroke=\"#000000\" points=\"3719,-53 3572,-53 3572,0 3719,0 3719,-53\"/>\n<text text-anchor=\"middle\" x=\"3645.5\" y=\"-37.8\" font-family=\"Times,serif\" font-size=\"14.00\" fill=\"#000000\">gini = 0.382</text>\n<text text-anchor=\"middle\" x=\"3645.5\" y=\"-22.8\" font-family=\"Times,serif\" font-size=\"14.00\" fill=\"#000000\">samples = 0.2%</text>\n<text text-anchor=\"middle\" x=\"3645.5\" y=\"-7.8\" font-family=\"Times,serif\" font-size=\"14.00\" fill=\"#000000\">value = [0.258, 0.742]</text>\n</g>\n<!-- 48&#45;&gt;49 -->\n<g id=\"edge49\" class=\"edge\">\n<title>48&#45;&gt;49</title>\n<path fill=\"none\" stroke=\"#000000\" d=\"M3738.731,-88.9777C3724.1102,-79.1798 3708.2067,-68.5222 3693.7435,-58.8298\"/>\n<polygon fill=\"#000000\" stroke=\"#000000\" points=\"3695.6705,-55.908 3685.4148,-53.2485 3691.7736,-61.723 3695.6705,-55.908\"/>\n</g>\n<!-- 50 -->\n<g id=\"node51\" class=\"node\">\n<title>50</title>\n<polygon fill=\"none\" stroke=\"#000000\" points=\"3884,-53 3737,-53 3737,0 3884,0 3884,-53\"/>\n<text text-anchor=\"middle\" x=\"3810.5\" y=\"-37.8\" font-family=\"Times,serif\" font-size=\"14.00\" fill=\"#000000\">gini = 0.359</text>\n<text text-anchor=\"middle\" x=\"3810.5\" y=\"-22.8\" font-family=\"Times,serif\" font-size=\"14.00\" fill=\"#000000\">samples = 0.8%</text>\n<text text-anchor=\"middle\" x=\"3810.5\" y=\"-7.8\" font-family=\"Times,serif\" font-size=\"14.00\" fill=\"#000000\">value = [0.235, 0.765]</text>\n</g>\n<!-- 48&#45;&gt;50 -->\n<g id=\"edge50\" class=\"edge\">\n<title>48&#45;&gt;50</title>\n<path fill=\"none\" stroke=\"#000000\" d=\"M3796.9038,-88.9777C3798.7172,-80.6449 3800.6659,-71.6903 3802.5055,-63.2364\"/>\n<polygon fill=\"#000000\" stroke=\"#000000\" points=\"3805.9726,-63.7641 3804.6791,-53.2485 3799.1327,-62.2755 3805.9726,-63.7641\"/>\n</g>\n<!-- 52 -->\n<g id=\"node53\" class=\"node\">\n<title>52</title>\n<polygon fill=\"none\" stroke=\"#000000\" points=\"4049,-53 3902,-53 3902,0 4049,0 4049,-53\"/>\n<text text-anchor=\"middle\" x=\"3975.5\" y=\"-37.8\" font-family=\"Times,serif\" font-size=\"14.00\" fill=\"#000000\">gini = 0.497</text>\n<text text-anchor=\"middle\" x=\"3975.5\" y=\"-22.8\" font-family=\"Times,serif\" font-size=\"14.00\" fill=\"#000000\">samples = 0.0%</text>\n<text text-anchor=\"middle\" x=\"3975.5\" y=\"-7.8\" font-family=\"Times,serif\" font-size=\"14.00\" fill=\"#000000\">value = [0.538, 0.462]</text>\n</g>\n<!-- 51&#45;&gt;52 -->\n<g id=\"edge52\" class=\"edge\">\n<title>51&#45;&gt;52</title>\n<path fill=\"none\" stroke=\"#000000\" d=\"M3989.0962,-88.9777C3987.2828,-80.6449 3985.3341,-71.6903 3983.4945,-63.2364\"/>\n<polygon fill=\"#000000\" stroke=\"#000000\" points=\"3986.8673,-62.2755 3981.3209,-53.2485 3980.0274,-63.7641 3986.8673,-62.2755\"/>\n</g>\n<!-- 53 -->\n<g id=\"node54\" class=\"node\">\n<title>53</title>\n<polygon fill=\"none\" stroke=\"#000000\" points=\"4184,-53 4067,-53 4067,0 4184,0 4184,-53\"/>\n<text text-anchor=\"middle\" x=\"4125.5\" y=\"-37.8\" font-family=\"Times,serif\" font-size=\"14.00\" fill=\"#000000\">gini = &#45;0.0</text>\n<text text-anchor=\"middle\" x=\"4125.5\" y=\"-22.8\" font-family=\"Times,serif\" font-size=\"14.00\" fill=\"#000000\">samples = 0.0%</text>\n<text text-anchor=\"middle\" x=\"4125.5\" y=\"-7.8\" font-family=\"Times,serif\" font-size=\"14.00\" fill=\"#000000\">value = [0.0, 1.0]</text>\n</g>\n<!-- 51&#45;&gt;53 -->\n<g id=\"edge53\" class=\"edge\">\n<title>51&#45;&gt;53</title>\n<path fill=\"none\" stroke=\"#000000\" d=\"M4041.9806,-88.9777C4054.8335,-79.3629 4068.7931,-68.9203 4081.554,-59.3743\"/>\n<polygon fill=\"#000000\" stroke=\"#000000\" points=\"4083.832,-62.0412 4089.743,-53.2485 4079.639,-56.436 4083.832,-62.0412\"/>\n</g>\n<!-- 55 -->\n<g id=\"node56\" class=\"node\">\n<title>55</title>\n<polygon fill=\"none\" stroke=\"#000000\" points=\"4427,-157 4212,-157 4212,-89 4427,-89 4427,-157\"/>\n<text text-anchor=\"middle\" x=\"4319.5\" y=\"-141.8\" font-family=\"Times,serif\" font-size=\"14.00\" fill=\"#000000\">date_2019&#45;11&#45;30 00:00:00 &lt;= 0.5</text>\n<text text-anchor=\"middle\" x=\"4319.5\" y=\"-126.8\" font-family=\"Times,serif\" font-size=\"14.00\" fill=\"#000000\">gini = 0.391</text>\n<text text-anchor=\"middle\" x=\"4319.5\" y=\"-111.8\" font-family=\"Times,serif\" font-size=\"14.00\" fill=\"#000000\">samples = 0.0%</text>\n<text text-anchor=\"middle\" x=\"4319.5\" y=\"-96.8\" font-family=\"Times,serif\" font-size=\"14.00\" fill=\"#000000\">value = [0.267, 0.733]</text>\n</g>\n<!-- 54&#45;&gt;55 -->\n<g id=\"edge55\" class=\"edge\">\n<title>54&#45;&gt;55</title>\n<path fill=\"none\" stroke=\"#000000\" d=\"M4319.5,-192.9465C4319.5,-184.776 4319.5,-175.9318 4319.5,-167.3697\"/>\n<polygon fill=\"#000000\" stroke=\"#000000\" points=\"4323.0001,-167.13 4319.5,-157.13 4316.0001,-167.13 4323.0001,-167.13\"/>\n</g>\n<!-- 58 -->\n<g id=\"node59\" class=\"node\">\n<title>58</title>\n<polygon fill=\"none\" stroke=\"#000000\" points=\"4660.5,-157 4490.5,-157 4490.5,-89 4660.5,-89 4660.5,-157\"/>\n<text text-anchor=\"middle\" x=\"4575.5\" y=\"-141.8\" font-family=\"Times,serif\" font-size=\"14.00\" fill=\"#000000\">age_group_30 &#45; 50 &lt;= 0.5</text>\n<text text-anchor=\"middle\" x=\"4575.5\" y=\"-126.8\" font-family=\"Times,serif\" font-size=\"14.00\" fill=\"#000000\">gini = 0.299</text>\n<text text-anchor=\"middle\" x=\"4575.5\" y=\"-111.8\" font-family=\"Times,serif\" font-size=\"14.00\" fill=\"#000000\">samples = 0.1%</text>\n<text text-anchor=\"middle\" x=\"4575.5\" y=\"-96.8\" font-family=\"Times,serif\" font-size=\"14.00\" fill=\"#000000\">value = [0.183, 0.817]</text>\n</g>\n<!-- 54&#45;&gt;58 -->\n<g id=\"edge58\" class=\"edge\">\n<title>54&#45;&gt;58</title>\n<path fill=\"none\" stroke=\"#000000\" d=\"M4401.2039,-193.8078C4426.9902,-183.3321 4455.6737,-171.6794 4482.2053,-160.901\"/>\n<polygon fill=\"#000000\" stroke=\"#000000\" points=\"4483.5445,-164.1348 4491.4919,-157.1283 4480.9098,-157.6495 4483.5445,-164.1348\"/>\n</g>\n<!-- 56 -->\n<g id=\"node57\" class=\"node\">\n<title>56</title>\n<polygon fill=\"none\" stroke=\"#000000\" points=\"4349,-53 4202,-53 4202,0 4349,0 4349,-53\"/>\n<text text-anchor=\"middle\" x=\"4275.5\" y=\"-37.8\" font-family=\"Times,serif\" font-size=\"14.00\" fill=\"#000000\">gini = 0.44</text>\n<text text-anchor=\"middle\" x=\"4275.5\" y=\"-22.8\" font-family=\"Times,serif\" font-size=\"14.00\" fill=\"#000000\">samples = 0.0%</text>\n<text text-anchor=\"middle\" x=\"4275.5\" y=\"-7.8\" font-family=\"Times,serif\" font-size=\"14.00\" fill=\"#000000\">value = [0.327, 0.673]</text>\n</g>\n<!-- 55&#45;&gt;56 -->\n<g id=\"edge56\" class=\"edge\">\n<title>55&#45;&gt;56</title>\n<path fill=\"none\" stroke=\"#000000\" d=\"M4303.9872,-88.9777C4300.0626,-80.3702 4295.8354,-71.0992 4291.8698,-62.402\"/>\n<polygon fill=\"#000000\" stroke=\"#000000\" points=\"4295.0295,-60.8952 4287.6962,-53.2485 4288.6603,-63.7994 4295.0295,-60.8952\"/>\n</g>\n<!-- 57 -->\n<g id=\"node58\" class=\"node\">\n<title>57</title>\n<polygon fill=\"none\" stroke=\"#000000\" points=\"4484,-53 4367,-53 4367,0 4484,0 4484,-53\"/>\n<text text-anchor=\"middle\" x=\"4425.5\" y=\"-37.8\" font-family=\"Times,serif\" font-size=\"14.00\" fill=\"#000000\">gini = 0.0</text>\n<text text-anchor=\"middle\" x=\"4425.5\" y=\"-22.8\" font-family=\"Times,serif\" font-size=\"14.00\" fill=\"#000000\">samples = 0.0%</text>\n<text text-anchor=\"middle\" x=\"4425.5\" y=\"-7.8\" font-family=\"Times,serif\" font-size=\"14.00\" fill=\"#000000\">value = [0.0, 1.0]</text>\n</g>\n<!-- 55&#45;&gt;57 -->\n<g id=\"edge57\" class=\"edge\">\n<title>55&#45;&gt;57</title>\n<path fill=\"none\" stroke=\"#000000\" d=\"M4356.8716,-88.9777C4367.1312,-79.6376 4378.2489,-69.5163 4388.4882,-60.1947\"/>\n<polygon fill=\"#000000\" stroke=\"#000000\" points=\"4391.0798,-62.5686 4396.1183,-53.2485 4386.3674,-57.3923 4391.0798,-62.5686\"/>\n</g>\n<!-- 59 -->\n<g id=\"node60\" class=\"node\">\n<title>59</title>\n<polygon fill=\"none\" stroke=\"#000000\" points=\"4649,-53 4502,-53 4502,0 4649,0 4649,-53\"/>\n<text text-anchor=\"middle\" x=\"4575.5\" y=\"-37.8\" font-family=\"Times,serif\" font-size=\"14.00\" fill=\"#000000\">gini = 0.285</text>\n<text text-anchor=\"middle\" x=\"4575.5\" y=\"-22.8\" font-family=\"Times,serif\" font-size=\"14.00\" fill=\"#000000\">samples = 0.0%</text>\n<text text-anchor=\"middle\" x=\"4575.5\" y=\"-7.8\" font-family=\"Times,serif\" font-size=\"14.00\" fill=\"#000000\">value = [0.172, 0.828]</text>\n</g>\n<!-- 58&#45;&gt;59 -->\n<g id=\"edge59\" class=\"edge\">\n<title>58&#45;&gt;59</title>\n<path fill=\"none\" stroke=\"#000000\" d=\"M4575.5,-88.9777C4575.5,-80.7364 4575.5,-71.887 4575.5,-63.5153\"/>\n<polygon fill=\"#000000\" stroke=\"#000000\" points=\"4579.0001,-63.2484 4575.5,-53.2485 4572.0001,-63.2485 4579.0001,-63.2484\"/>\n</g>\n<!-- 60 -->\n<g id=\"node61\" class=\"node\">\n<title>60</title>\n<polygon fill=\"none\" stroke=\"#000000\" points=\"4813.5,-53 4667.5,-53 4667.5,0 4813.5,0 4813.5,-53\"/>\n<text text-anchor=\"middle\" x=\"4740.5\" y=\"-37.8\" font-family=\"Times,serif\" font-size=\"14.00\" fill=\"#000000\">gini = 0.333</text>\n<text text-anchor=\"middle\" x=\"4740.5\" y=\"-22.8\" font-family=\"Times,serif\" font-size=\"14.00\" fill=\"#000000\">samples = 0.0%</text>\n<text text-anchor=\"middle\" x=\"4740.5\" y=\"-7.8\" font-family=\"Times,serif\" font-size=\"14.00\" fill=\"#000000\">value = [0.211, 0.789]</text>\n</g>\n<!-- 58&#45;&gt;60 -->\n<g id=\"edge60\" class=\"edge\">\n<title>58&#45;&gt;60</title>\n<path fill=\"none\" stroke=\"#000000\" d=\"M4633.6728,-88.9777C4650.818,-78.9504 4669.5025,-68.0228 4686.382,-58.1508\"/>\n<polygon fill=\"#000000\" stroke=\"#000000\" points=\"4688.1615,-61.1648 4695.0266,-53.095 4684.6276,-55.1223 4688.1615,-61.1648\"/>\n</g>\n</g>\n</svg>\n"
          },
          "metadata": {
            "tags": []
          },
          "execution_count": 37
        }
      ]
    },
    {
      "cell_type": "code",
      "metadata": {
        "colab": {
          "base_uri": "https://localhost:8080/"
        },
        "id": "1Nb2NBc2AXfC",
        "outputId": "3d22189e-72f1-440f-ff94-65f639a09cca"
      },
      "source": [
        "df.loc[df.state=='North Carolina','condition'].mean()"
      ],
      "execution_count": 38,
      "outputs": [
        {
          "output_type": "execute_result",
          "data": {
            "text/plain": [
              "0.7998630224942748"
            ]
          },
          "metadata": {
            "tags": []
          },
          "execution_count": 38
        }
      ]
    },
    {
      "cell_type": "code",
      "metadata": {
        "colab": {
          "base_uri": "https://localhost:8080/"
        },
        "id": "0D5W7aQqC3VW",
        "outputId": "91f452fb-4498-4ca8-b957-1deb0404a947"
      },
      "source": [
        "df.loc[df.state=='North Carolina','conversion'].mean()"
      ],
      "execution_count": 39,
      "outputs": [
        {
          "output_type": "execute_result",
          "data": {
            "text/plain": [
              "0.013997388866297113"
            ]
          },
          "metadata": {
            "tags": []
          },
          "execution_count": 39
        }
      ]
    },
    {
      "cell_type": "code",
      "metadata": {
        "colab": {
          "base_uri": "https://localhost:8080/"
        },
        "id": "7Kbu1z9fAzRz",
        "outputId": "dc85a179-f143-47bf-958e-95068a1b9291"
      },
      "source": [
        "df.loc[df.state=='Indiana','condition'].mean()"
      ],
      "execution_count": 40,
      "outputs": [
        {
          "output_type": "execute_result",
          "data": {
            "text/plain": [
              "0.8995400629387558"
            ]
          },
          "metadata": {
            "tags": []
          },
          "execution_count": 40
        }
      ]
    },
    {
      "cell_type": "code",
      "metadata": {
        "colab": {
          "base_uri": "https://localhost:8080/"
        },
        "id": "Gjs0_HxhCyxu",
        "outputId": "fc328998-405d-4987-ffad-c9ce9b3d597e"
      },
      "source": [
        "df.loc[df.state=='Indiana','conversion'].mean()"
      ],
      "execution_count": 41,
      "outputs": [
        {
          "output_type": "execute_result",
          "data": {
            "text/plain": [
              "0.012829823287339627"
            ]
          },
          "metadata": {
            "tags": []
          },
          "execution_count": 41
        }
      ]
    },
    {
      "cell_type": "markdown",
      "metadata": {
        "id": "QV28KLN07PMm"
      },
      "source": [
        "North Carolina and Indiana are the two states with extremely low conversion rate and higher likelihood yo be in the test group. North Carolina has 79% users in the test and its average conversion rate is ~1%; Indiana has 89% users in test and its average conversion rate is ~1%.\n",
        "\n",
        "Follow-ups:\n",
        "\n",
        "- Investigate our experiment design and randomization logic, esp. allocation by state\n",
        "- Remove PA, NC, IN from data and re-conduct t-test\n",
        "- NC, IN: separate t-test\n",
        "- t-test by each state"
      ]
    },
    {
      "cell_type": "code",
      "metadata": {
        "colab": {
          "base_uri": "https://localhost:8080/"
        },
        "id": "gY9w12QqEoDa",
        "outputId": "6faefa86-930b-4515-d13f-d241d0a693af"
      },
      "source": [
        "df2 = df.loc[~df.state.isin(['North Carolina', 'Indiana'])]\n",
        "print(df2.state.unique())\n",
        "df3 = df.loc[df.state.isin(['North Carolina', 'Indiana'])]\n",
        "print(df3.state.unique())"
      ],
      "execution_count": 42,
      "outputs": [
        {
          "output_type": "stream",
          "text": [
            "['Texas' 'Massachusetts' 'California' 'Michigan' 'Florida' 'New Jersey'\n",
            " 'Illinois' 'New York' 'Virginia' 'Airzona' 'Ohio' 'Tennessee' 'Georgia'\n",
            " 'Washington']\n",
            "['North Carolina' 'Indiana']\n"
          ],
          "name": "stdout"
        }
      ]
    },
    {
      "cell_type": "code",
      "metadata": {
        "colab": {
          "base_uri": "https://localhost:8080/"
        },
        "id": "aMEv1tNYFH7p",
        "outputId": "2f4eda4c-4eea-4bc4-f5d7-7ca10af5a16c"
      },
      "source": [
        "stats.ttest_ind(df2.loc[df2['condition']==1, 'conversion'], df2.loc[df2['condition']==0, 'conversion'], equal_var=False)"
      ],
      "execution_count": 43,
      "outputs": [
        {
          "output_type": "execute_result",
          "data": {
            "text/plain": [
              "Ttest_indResult(statistic=0.36340782173835057, pvalue=0.7163004791299912)"
            ]
          },
          "metadata": {
            "tags": []
          },
          "execution_count": 43
        }
      ]
    },
    {
      "cell_type": "code",
      "metadata": {
        "id": "UfJdyDGtGE8e",
        "colab": {
          "base_uri": "https://localhost:8080/"
        },
        "outputId": "1b5996b3-f8cf-4843-d439-eaf6cb62cf09"
      },
      "source": [
        "stats.ttest_ind(df3.loc[df3['condition']==1, 'conversion'], df3.loc[df3['condition']==0, 'conversion'], equal_var=False)"
      ],
      "execution_count": 44,
      "outputs": [
        {
          "output_type": "execute_result",
          "data": {
            "text/plain": [
              "Ttest_indResult(statistic=-0.956655241615398, pvalue=0.3387574569723738)"
            ]
          },
          "metadata": {
            "tags": []
          },
          "execution_count": 44
        }
      ]
    },
    {
      "cell_type": "code",
      "metadata": {
        "colab": {
          "base_uri": "https://localhost:8080/",
          "height": 576
        },
        "id": "v8TVHIOIJ7ip",
        "outputId": "8950c6e2-1dbe-4d1f-86ef-e5f702c63c49"
      },
      "source": [
        "df.groupby('state')['conversion'].agg(conversion_rate_test = lambda a: a[df.condition==1].mean(),\n",
        "                                      conversion_rate_control = lambda a: a[df.condition==0].mean(),\n",
        "                                      sample_count_test = lambda a: a[df.condition==1].count(),\n",
        "                                      sample_count_control = lambda a: a[df.condition==0].count(),\n",
        "                                      p_value = lambda a: stats.ttest_ind(a[df.condition==1], a[df.condition==0], equal_var=False).pvalue)"
      ],
      "execution_count": 45,
      "outputs": [
        {
          "output_type": "execute_result",
          "data": {
            "text/html": [
              "<div>\n",
              "<style scoped>\n",
              "    .dataframe tbody tr th:only-of-type {\n",
              "        vertical-align: middle;\n",
              "    }\n",
              "\n",
              "    .dataframe tbody tr th {\n",
              "        vertical-align: top;\n",
              "    }\n",
              "\n",
              "    .dataframe thead th {\n",
              "        text-align: right;\n",
              "    }\n",
              "</style>\n",
              "<table border=\"1\" class=\"dataframe\">\n",
              "  <thead>\n",
              "    <tr style=\"text-align: right;\">\n",
              "      <th></th>\n",
              "      <th>conversion_rate_test</th>\n",
              "      <th>conversion_rate_control</th>\n",
              "      <th>sample_count_test</th>\n",
              "      <th>sample_count_control</th>\n",
              "      <th>p_value</th>\n",
              "    </tr>\n",
              "    <tr>\n",
              "      <th>state</th>\n",
              "      <th></th>\n",
              "      <th></th>\n",
              "      <th></th>\n",
              "      <th></th>\n",
              "      <th></th>\n",
              "    </tr>\n",
              "  </thead>\n",
              "  <tbody>\n",
              "    <tr>\n",
              "      <th>Airzona</th>\n",
              "      <td>0.047551</td>\n",
              "      <td>0.050906</td>\n",
              "      <td>4206</td>\n",
              "      <td>4361</td>\n",
              "      <td>0.473003</td>\n",
              "    </tr>\n",
              "    <tr>\n",
              "      <th>California</th>\n",
              "      <td>0.051183</td>\n",
              "      <td>0.049498</td>\n",
              "      <td>64260</td>\n",
              "      <td>64184</td>\n",
              "      <td>0.167446</td>\n",
              "    </tr>\n",
              "    <tr>\n",
              "      <th>Florida</th>\n",
              "      <td>0.050590</td>\n",
              "      <td>0.052056</td>\n",
              "      <td>26962</td>\n",
              "      <td>27086</td>\n",
              "      <td>0.439732</td>\n",
              "    </tr>\n",
              "    <tr>\n",
              "      <th>Georgia</th>\n",
              "      <td>0.047918</td>\n",
              "      <td>0.049405</td>\n",
              "      <td>5572</td>\n",
              "      <td>5546</td>\n",
              "      <td>0.715656</td>\n",
              "    </tr>\n",
              "    <tr>\n",
              "      <th>Illinois</th>\n",
              "      <td>0.048995</td>\n",
              "      <td>0.049154</td>\n",
              "      <td>7858</td>\n",
              "      <td>8036</td>\n",
              "      <td>0.962964</td>\n",
              "    </tr>\n",
              "    <tr>\n",
              "      <th>Indiana</th>\n",
              "      <td>0.012917</td>\n",
              "      <td>0.012048</td>\n",
              "      <td>3716</td>\n",
              "      <td>415</td>\n",
              "      <td>0.878326</td>\n",
              "    </tr>\n",
              "    <tr>\n",
              "      <th>Massachusetts</th>\n",
              "      <td>0.047947</td>\n",
              "      <td>0.053567</td>\n",
              "      <td>4067</td>\n",
              "      <td>4107</td>\n",
              "      <td>0.247087</td>\n",
              "    </tr>\n",
              "    <tr>\n",
              "      <th>Michigan</th>\n",
              "      <td>0.050557</td>\n",
              "      <td>0.049929</td>\n",
              "      <td>16793</td>\n",
              "      <td>16864</td>\n",
              "      <td>0.792034</td>\n",
              "    </tr>\n",
              "    <tr>\n",
              "      <th>New Jersey</th>\n",
              "      <td>0.051305</td>\n",
              "      <td>0.048132</td>\n",
              "      <td>9882</td>\n",
              "      <td>9848</td>\n",
              "      <td>0.305148</td>\n",
              "    </tr>\n",
              "    <tr>\n",
              "      <th>New York</th>\n",
              "      <td>0.048997</td>\n",
              "      <td>0.050356</td>\n",
              "      <td>15899</td>\n",
              "      <td>16145</td>\n",
              "      <td>0.575506</td>\n",
              "    </tr>\n",
              "    <tr>\n",
              "      <th>North Carolina</th>\n",
              "      <td>0.013727</td>\n",
              "      <td>0.015079</td>\n",
              "      <td>37372</td>\n",
              "      <td>9351</td>\n",
              "      <td>0.333137</td>\n",
              "    </tr>\n",
              "    <tr>\n",
              "      <th>Ohio</th>\n",
              "      <td>0.049229</td>\n",
              "      <td>0.048493</td>\n",
              "      <td>3697</td>\n",
              "      <td>3650</td>\n",
              "      <td>0.883697</td>\n",
              "    </tr>\n",
              "    <tr>\n",
              "      <th>Tennessee</th>\n",
              "      <td>0.049370</td>\n",
              "      <td>0.046796</td>\n",
              "      <td>1985</td>\n",
              "      <td>1966</td>\n",
              "      <td>0.705327</td>\n",
              "    </tr>\n",
              "    <tr>\n",
              "      <th>Texas</th>\n",
              "      <td>0.054210</td>\n",
              "      <td>0.052678</td>\n",
              "      <td>3302</td>\n",
              "      <td>3417</td>\n",
              "      <td>0.780245</td>\n",
              "    </tr>\n",
              "    <tr>\n",
              "      <th>Virginia</th>\n",
              "      <td>0.048654</td>\n",
              "      <td>0.050545</td>\n",
              "      <td>7502</td>\n",
              "      <td>7617</td>\n",
              "      <td>0.592314</td>\n",
              "    </tr>\n",
              "    <tr>\n",
              "      <th>Washington</th>\n",
              "      <td>0.054779</td>\n",
              "      <td>0.052256</td>\n",
              "      <td>2647</td>\n",
              "      <td>2660</td>\n",
              "      <td>0.683069</td>\n",
              "    </tr>\n",
              "  </tbody>\n",
              "</table>\n",
              "</div>"
            ],
            "text/plain": [
              "                conversion_rate_test  ...   p_value\n",
              "state                                 ...          \n",
              "Airzona                     0.047551  ...  0.473003\n",
              "California                  0.051183  ...  0.167446\n",
              "Florida                     0.050590  ...  0.439732\n",
              "Georgia                     0.047918  ...  0.715656\n",
              "Illinois                    0.048995  ...  0.962964\n",
              "Indiana                     0.012917  ...  0.878326\n",
              "Massachusetts               0.047947  ...  0.247087\n",
              "Michigan                    0.050557  ...  0.792034\n",
              "New Jersey                  0.051305  ...  0.305148\n",
              "New York                    0.048997  ...  0.575506\n",
              "North Carolina              0.013727  ...  0.333137\n",
              "Ohio                        0.049229  ...  0.883697\n",
              "Tennessee                   0.049370  ...  0.705327\n",
              "Texas                       0.054210  ...  0.780245\n",
              "Virginia                    0.048654  ...  0.592314\n",
              "Washington                  0.054779  ...  0.683069\n",
              "\n",
              "[16 rows x 5 columns]"
            ]
          },
          "metadata": {
            "tags": []
          },
          "execution_count": 45
        }
      ]
    },
    {
      "cell_type": "markdown",
      "metadata": {
        "id": "iZUJSo6IjeQ8"
      },
      "source": [
        "# 6.Make Decisions\n",
        "\n",
        "After we control the experiment result by state, the new UI vs. old UI are not statistically significantlly different from each other, with respect to conversion rate.\n",
        "\n",
        "There are a couple of follow-uo investigation needed:\n",
        "- The experiment is not well designed, withouout enough time window to collect weekly paatterns.\n",
        "- There is something wrong with the randomization. We need to check the randomization code logic, and the data collection pipeline. Fine the SDE/DE/DS in charge of this.\n",
        "-The current conclusion on NC and IN are still problematic, given its highly skewed data samples in test. We can 1) examine if the randomization is done right for the two states; 2) if yes, then we can try rebalance the data with adjustments or propensity score mathching, and re-do the t-test on balanced data for NC/IN.\n",
        "- We don't have test data for PA, and PA is one of the key states in our customer base. We need to redo the experiment in a correct way for PA.\n",
        "- Since the new UI and the old UI don't make any difference by state, we need to make the business decision based on other considerations, i.e. cost of replacement, code base maintenance, long-term consideration such acquistion, branding."
      ]
    }
  ]
}